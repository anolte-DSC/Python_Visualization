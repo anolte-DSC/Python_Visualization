{
 "cells": [
  {
   "cell_type": "markdown",
   "id": "0318b93e-bdf3-42f4-a933-7970bde1c2b2",
   "metadata": {},
   "source": [
    "<img src=\"../Images/DSC_Logo.png\" style=\"width: 400px;\">"
   ]
  },
  {
   "cell_type": "markdown",
   "id": "81681cfa-8ede-42ce-b9d1-00f06e97716f",
   "metadata": {},
   "source": [
    "# Python Coding Support"
   ]
  },
  {
   "cell_type": "markdown",
   "id": "5bb5bfd1-0466-4a4a-8b5b-183db1004e25",
   "metadata": {},
   "source": [
    "This notebook demonstrates some tools and features that enhance the coding experience in Python and Jupyter."
   ]
  },
  {
   "cell_type": "markdown",
   "id": "fd4bab86-c740-4afd-b15d-1f97c9dba9f5",
   "metadata": {},
   "source": [
    "## 1. In-line assistance (auto-completion)"
   ]
  },
  {
   "cell_type": "markdown",
   "id": "9e74e555-b119-41db-ba5c-cd14e3635169",
   "metadata": {},
   "source": [
    "Type a variable name followed by a dot and press the \"Tab\" key to see auto-completion suggestions."
   ]
  },
  {
   "cell_type": "code",
   "execution_count": null,
   "id": "c67f0bc4-9228-4e30-b848-b216d5b725b3",
   "metadata": {},
   "outputs": [],
   "source": [
    "my_list = [1, 2, 3, 4, 5]\n",
    "my_list"
   ]
  },
  {
   "cell_type": "code",
   "execution_count": null,
   "id": "11b913de-5c04-482d-990f-345dfe0bafb0",
   "metadata": {},
   "outputs": [],
   "source": [
    "my_list."
   ]
  },
  {
   "cell_type": "markdown",
   "id": "751540aa-e788-4c4f-8c7a-0dc6bd8cc6b7",
   "metadata": {},
   "source": [
    "In this example, after typing my_list. and pressing Tab, you should see a list of methods available for a list, like append, extend, pop, remove etc. \n",
    "\n",
    "Let's remove the 1 from the list:"
   ]
  },
  {
   "cell_type": "code",
   "execution_count": null,
   "id": "48044d99-b7dd-4e53-b62b-2ce86a948db9",
   "metadata": {},
   "outputs": [],
   "source": [
    "my_list.remove(1)\n",
    "my_list"
   ]
  },
  {
   "cell_type": "markdown",
   "id": "bdbb7b66-bf0d-4391-9b6e-cebafd769c41",
   "metadata": {},
   "source": [
    "## 2. Docstring pop-ups (IPython)"
   ]
  },
  {
   "cell_type": "markdown",
   "id": "93df2f07-a023-494b-bfcc-f7fd0a74f2f9",
   "metadata": {},
   "source": [
    "A docstring is a short description of what a function, class, or method is supposed to do, what inputs it expects, and what outputs it will return. \n",
    "\n",
    "A docstring pop-up is a feature in many Python editors that displays this description in a small box (\"pop-up\") while you are coding, providing immediate access to helpful information.\n",
    "\n",
    "Options in Juypter Notebook:"
   ]
  },
  {
   "cell_type": "markdown",
   "id": "f461e3c5-4198-4cf8-bd09-8dba2f0b0e67",
   "metadata": {},
   "source": [
    "1) Place your cursor inside the parentheses of a function and press **Shift + Tab**:"
   ]
  },
  {
   "cell_type": "code",
   "execution_count": null,
   "id": "3e1a991b-5d36-4fae-a11d-7d948871c98f",
   "metadata": {},
   "outputs": [],
   "source": [
    "len()"
   ]
  },
  {
   "cell_type": "markdown",
   "id": "5734b5db-ed9a-4f9a-a9bf-3eb1f642280a",
   "metadata": {},
   "source": [
    "2) Type the function name followed by **?** and run the cell:"
   ]
  },
  {
   "cell_type": "code",
   "execution_count": null,
   "id": "21a6715a-35cb-46fd-9bee-5a6f1b9836ab",
   "metadata": {},
   "outputs": [],
   "source": [
    "len?"
   ]
  },
  {
   "cell_type": "markdown",
   "id": "f5abe0e1-f39f-4326-8ed7-beec0b2e925d",
   "metadata": {},
   "source": [
    "## 3. Using the help() function"
   ]
  },
  {
   "cell_type": "markdown",
   "id": "a2b3dd34-6ce7-4f4f-8b26-78d1ba4b63c6",
   "metadata": {},
   "source": [
    "The help() function in Python provides a built-in way to access documentation for any object, function, or module. When calling `help(greet)` in the example below, it displays the docstring of the `greet` function, including the parameters. "
   ]
  },
  {
   "cell_type": "code",
   "execution_count": null,
   "id": "0faa0fd3-9205-43ae-aa0f-3178350b6552",
   "metadata": {},
   "outputs": [],
   "source": [
    "def greet(name):\n",
    "    return f\"Hello, {name}!\""
   ]
  },
  {
   "cell_type": "code",
   "execution_count": null,
   "id": "96b57640-733a-43c1-afb2-7c2f6ea41dc3",
   "metadata": {},
   "outputs": [],
   "source": [
    "help(greet)"
   ]
  },
  {
   "cell_type": "markdown",
   "id": "24d0da76-dbd4-4f2a-83bd-abaa706e0761",
   "metadata": {},
   "source": [
    "## 4. Python modules and packages\n",
    "\n",
    "Using Python for scientific computations isn't the whole story. Python acts like a toolkit. While the core elements of Python are powerful, they don’t offer much functionality by themselves without additional packages.\n",
    "\n",
    "Modules are individual Python files that contain code you can reuse, while packages are collections of related modules stored in a folder, sometimes containing sub-packages as well."
   ]
  },
  {
   "cell_type": "markdown",
   "id": "b566b7e2-090e-4ae4-9b19-26dfeebe8427",
   "metadata": {},
   "source": [
    "Import the math module:"
   ]
  },
  {
   "cell_type": "code",
   "execution_count": null,
   "id": "4fd450e7-0add-47f9-aa67-6383282a3faa",
   "metadata": {},
   "outputs": [],
   "source": [
    "import math"
   ]
  },
  {
   "cell_type": "markdown",
   "id": "d10fb22d-487d-4130-b735-2c5d3096b2a2",
   "metadata": {},
   "source": [
    "Using a function from the math module:"
   ]
  },
  {
   "cell_type": "code",
   "execution_count": null,
   "id": "a9f96c2b-d26b-4ef2-ab11-7c90103c98ed",
   "metadata": {},
   "outputs": [],
   "source": [
    "number = 16\n",
    "math.sqrt(number)"
   ]
  },
  {
   "cell_type": "markdown",
   "id": "6c9ee29d-939c-4bf9-8439-efee2809f065",
   "metadata": {},
   "source": [
    "Some libraries have commonly accepted abbreviations that are widely used in the Python community. Conventions include, for example, `np` for NumPy, `pd` for Pandas, and `plt` for Matplotlib's pyplot module:"
   ]
  },
  {
   "cell_type": "code",
   "execution_count": null,
   "id": "dce7adc0-9ac9-4529-8305-b0b1a584705f",
   "metadata": {},
   "outputs": [],
   "source": [
    "import matplotlib.pyplot as plt  "
   ]
  },
  {
   "cell_type": "markdown",
   "id": "ff5d3e45-b555-48eb-a160-0566352a6248",
   "metadata": {},
   "source": [
    "## 5. Exploring with dir()\n",
    "\n",
    "The `dir()` function in Python is a built-in function that is used to find out which names (attributes and methods) are defined in a module, class, or object. The pupose is to get the list of attributes and methods of an object."
   ]
  },
  {
   "cell_type": "code",
   "execution_count": null,
   "id": "11c5924e-4fc1-4aed-b5c5-b871dac841c3",
   "metadata": {},
   "outputs": [],
   "source": [
    "import math\n",
    "dir(math)"
   ]
  },
  {
   "cell_type": "markdown",
   "id": "655b5473-042d-4c6e-804f-51f7c94b902a",
   "metadata": {},
   "source": [
    "## 6. IPython magic functions"
   ]
  },
  {
   "cell_type": "markdown",
   "id": "e3b146aa-dd33-490d-bdda-7cece0193c16",
   "metadata": {},
   "source": [
    "IPython magic functions are special commands that provide additional functionality to enhance your work in the IPython environment and Jupyter notebooks. They are prefixed with `%` for line magics (commands that operate on a single line) and `%%` for cell magics (commands that operate on the entire cell). "
   ]
  },
  {
   "cell_type": "markdown",
   "id": "3699f607-e187-4891-8336-41e28b8a4cd5",
   "metadata": {},
   "source": [
    "Using %time to measure execution of a single statement:"
   ]
  },
  {
   "cell_type": "code",
   "execution_count": null,
   "id": "55b1e3ff-a1cb-474e-8db3-1cf32e344951",
   "metadata": {},
   "outputs": [],
   "source": [
    "%time sum(range(100000000))"
   ]
  },
  {
   "cell_type": "markdown",
   "id": "ca6d3eb5-3298-43a6-840d-f312104d5b36",
   "metadata": {},
   "source": [
    "Using %who to display all variables in the current interactive environment, including those carried over from previous code executions within the same session or notebook:"
   ]
  },
  {
   "cell_type": "code",
   "execution_count": null,
   "id": "11c78c23-f5e5-45a5-a939-6f3e1b6644d3",
   "metadata": {},
   "outputs": [],
   "source": [
    "x = 10\n",
    "y = \"Hello\""
   ]
  },
  {
   "cell_type": "code",
   "execution_count": null,
   "id": "72fc67df-a53c-4475-8968-f671f1304663",
   "metadata": {},
   "outputs": [],
   "source": [
    "%who "
   ]
  },
  {
   "cell_type": "markdown",
   "id": "0929249c-8487-4060-91c9-39a473decd4b",
   "metadata": {},
   "source": [
    "## 7. Python coding buddy: Large-language models"
   ]
  },
  {
   "cell_type": "markdown",
   "id": "028e70ac-ed1d-4d06-9add-4ad8fb5ddd04",
   "metadata": {},
   "source": [
    "![cat](../Images/cat_LLMs.jpg)"
   ]
  },
  {
   "cell_type": "code",
   "execution_count": null,
   "id": "b370ad58-27c2-45b4-a644-81ff7e3ce26b",
   "metadata": {},
   "outputs": [],
   "source": []
  }
 ],
 "metadata": {
  "kernelspec": {
   "display_name": "Python 3 (ipykernel)",
   "language": "python",
   "name": "python3"
  },
  "language_info": {
   "codemirror_mode": {
    "name": "ipython",
    "version": 3
   },
   "file_extension": ".py",
   "mimetype": "text/x-python",
   "name": "python",
   "nbconvert_exporter": "python",
   "pygments_lexer": "ipython3",
   "version": "3.11.7"
  }
 },
 "nbformat": 4,
 "nbformat_minor": 5
}
