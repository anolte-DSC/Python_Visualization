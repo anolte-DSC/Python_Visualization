{
 "cells": [
  {
   "cell_type": "markdown",
   "id": "35eed4bf-e5e9-4600-82d2-02a1ae75d99a",
   "metadata": {},
   "source": [
    "<img src=\"../Images/DSC_Logo.png\" style=\"width: 400px;\">"
   ]
  },
  {
   "cell_type": "markdown",
   "id": "357eab73-faf3-4de7-bfb7-b0b9d92c7fe6",
   "metadata": {},
   "source": [
    "# Animations\n",
    "\n",
    "This notebook explores the creation of animations in Python using matplotlib. It demonstrates how to visualize data dynamically, for example, changes in patterns or distributions over time."
   ]
  },
  {
   "cell_type": "code",
   "execution_count": 1,
   "id": "c36b8bf4-502a-421f-9095-759d753e96f7",
   "metadata": {},
   "outputs": [],
   "source": [
    "import numpy as np\n",
    "import pandas as pd\n",
    "import matplotlib.pyplot as plt\n",
    "import cartopy.crs as ccrs\n",
    "import cartopy.feature as cfeature\n",
    "import rasterio\n",
    "from matplotlib.animation import FuncAnimation  "
   ]
  },
  {
   "cell_type": "markdown",
   "id": "496ae88a-03d2-4626-9d6f-b1b4017d6101",
   "metadata": {},
   "source": [
    "### **Example 1: Sine wave**"
   ]
  },
  {
   "cell_type": "markdown",
   "id": "a6224ea0-dce3-41f9-b835-96ef61c9b11e",
   "metadata": {},
   "source": [
    "We start with animating the sine wave."
   ]
  },
  {
   "cell_type": "code",
   "execution_count": 2,
   "id": "0b5cea4a-8562-4ee7-ab8b-0f51e90c7f16",
   "metadata": {},
   "outputs": [],
   "source": [
    "# Parameters for the sine wave\n",
    "x = np.linspace(0, 4 * np.pi, 100)  # x values from 0 to 4π\n",
    "y = np.sin(x)                       # y values as sine of x"
   ]
  },
  {
   "cell_type": "markdown",
   "id": "2405259e-7835-4517-99ab-e60d8f4ed70d",
   "metadata": {},
   "source": [
    "First create the figure that we want to animate. Second, we initialize the object on the figure axes that shall be updated in the animation. In the case of the sine wave it is a line. Next, the animation function that shall update the line object is defined and the anmation created using this function."
   ]
  },
  {
   "cell_type": "code",
   "execution_count": 3,
   "id": "382f493d-88db-43dd-956a-fff32feb3e49",
   "metadata": {},
   "outputs": [],
   "source": [
    "# 1. Create the figure\n",
    "\n",
    "# Setup the figure and axis\n",
    "fig, ax = plt.subplots(figsize=(8, 6))\n",
    "\n",
    "# Setting axis limits\n",
    "ax.set_xlim((0, 4 * np.pi))\n",
    "ax.set_ylim((-1.5, 1.5))\n",
    "\n",
    "# Setting axis labels and title\n",
    "ax.set_xlabel('x')\n",
    "ax.set_ylabel('sin(x)')\n",
    "ax.set_title('Animating a Sine Wave')\n",
    "\n",
    "# 2. Initialize a line object on the axes (to be updated in animation) with the `plot` function\n",
    "line, = ax.plot([], [], lw=2, color='red')\n",
    "\n",
    "# 3. Animation function to update the line object\n",
    "def animate(i):\n",
    "    line.set_data(x[:i], y[:i])\n",
    "    return line,\n",
    "\n",
    "# 4. Create animation using FuncAnimation\n",
    "anim = FuncAnimation(fig, animate, frames=len(x), interval=100, blit=True)\n",
    "\n",
    "# Save animation as a GIF file\n",
    "anim.save('Figures/sine_wave_animation.gif', writer='pillow', dpi=100)\n",
    "\n",
    "# Don't show\n",
    "plt.close(fig)"
   ]
  },
  {
   "cell_type": "markdown",
   "id": "6dcac1b9-3a1c-4853-91d3-a62e373077cf",
   "metadata": {},
   "source": [
    "### **Example 2 [continued from B3]: POLARSTERN cruise PS141 master track**"
   ]
  },
  {
   "cell_type": "markdown",
   "id": "2fac1138-30ed-4260-ab59-507104ce7c78",
   "metadata": {},
   "source": [
    "Let's code a similar animation for the master track of the Polarstern expedition. The track is a time series that we can animate. We resample the data from 10 minutes to dayly means:"
   ]
  },
  {
   "cell_type": "code",
   "execution_count": 6,
   "id": "082576a0-4eae-43b1-acda-5a0407272939",
   "metadata": {},
   "outputs": [],
   "source": [
    "# Load dataset\n",
    "path = '../Datasets/PS141_mastertrack.tab' \n",
    "track = pd.read_csv(path, \n",
    "                    skiprows=21,\n",
    "                    sep=\"\\t\")\n",
    "\n",
    "# Convert 'Date/Time' to datetime type\n",
    "track['Date/Time'] = pd.to_datetime(track['Date/Time'])\n",
    "\n",
    "# Set 'Date/Time' as the index\n",
    "track.set_index('Date/Time', inplace=True)\n",
    "\n",
    "# Resample data to daily frequency\n",
    "daily_track = track.resample('D').mean()"
   ]
  },
  {
   "cell_type": "markdown",
   "id": "33aa099b-c46c-4d3e-af41-5bf99d0ce920",
   "metadata": {},
   "source": [
    "**Exercise:** Create a line animation of the expedition track. Chek out notebook B3 to create the figure in the first step. Save the animation as a GIF file to the \"Figures\" folder. Hint: `transform=ccrs.PlateCarree()` must be specified in the line object."
   ]
  },
  {
   "cell_type": "code",
   "execution_count": 7,
   "id": "b950243d-a0fd-401f-a5fb-795617121caa",
   "metadata": {},
   "outputs": [],
   "source": [
    "# 1. Create the figure \n",
    "\n",
    "# Plot setup\n",
    "fig, ax = plt.subplots(figsize=(10, 8), subplot_kw={'projection': ccrs.SouthPolarStereo()})\n",
    "ax.coastlines(resolution='50m', color='blue')\n",
    "ax.gridlines(draw_labels=False, linestyle='--', color='gray', alpha=0.5)\n",
    "\n",
    "# Set extent\n",
    "ax.set_extent([-180, 180, -66.8, -22.9], crs=ccrs.PlateCarree())\n",
    "\n",
    "# Add title\n",
    "ax.set_title('Polarstern Expedition 141 Track (Daily)', fontsize=15)\n",
    "\n",
    "# 2. Initialize a line object on the axes (to be updated in animation) with the `plot` function\n",
    "line, = ax.plot([], [], color='red', transform=ccrs.PlateCarree())\n",
    "\n",
    "# 3. Animation function to update the line object\n",
    "def animate(i):\n",
    "    line.set_data(daily_track['Longitude'][:i], daily_track['Latitude'][:i])\n",
    "    return line,\n",
    "\n",
    "# 4. Create animation using FuncAnimation\n",
    "anim = FuncAnimation(fig, animate, frames=len(daily_track), interval=100, blit=True)\n",
    "\n",
    "# Save the animation as a GIF\n",
    "anim.save('Figures/polarstern_track_animation.gif', writer='pillow')\n",
    "\n",
    "# Don't show\n",
    "plt.close(fig)"
   ]
  },
  {
   "cell_type": "code",
   "execution_count": 9,
   "id": "f9065f97",
   "metadata": {},
   "outputs": [
    {
     "data": {
      "text/plain": [
       "69"
      ]
     },
     "execution_count": 9,
     "metadata": {},
     "output_type": "execute_result"
    }
   ],
   "source": [
    "len(daily_track)"
   ]
  },
  {
   "cell_type": "markdown",
   "id": "3cdd6823-a9e4-4eb6-946c-76639d35047d",
   "metadata": {},
   "source": [
    "### **Example 3 [continued from B2]: Chemical concentrations in volcanic tephra**"
   ]
  },
  {
   "cell_type": "code",
   "execution_count": 10,
   "id": "4c46923a-19b8-4a6a-9dd8-c4f2fe32831f",
   "metadata": {},
   "outputs": [],
   "source": [
    "# Load dataset from two excel sheets\n",
    "path = '../Datasets/Smith_glass_post_NYT_data.xlsx'\n",
    "majors = pd.read_excel(path)\n",
    "traces = pd.read_excel(path, sheet_name=1)\n",
    "\n",
    "# Define the color mapping for each epoch\n",
    "color_map = {'one':'red', 'two':'blue', 'three':'purple', 'three-b':'orange'}"
   ]
  },
  {
   "cell_type": "markdown",
   "id": "1f4ab76a-df83-40a0-a3cf-3caf7c48fa7b",
   "metadata": {},
   "source": [
    "Showing the relationship between Zr and Th concentrations while making the time periods (epochs) clear is hard with the simple scatter plot from notebook B2. Instead, we will create an animation that displays the concentrations one epoch at a time. Here, we define the figure inside the `update` function that provides the animation. \n",
    "\n",
    "There is almost always room for improvement in the layout of visualisations, for example, the position of the legend could be fixed here. "
   ]
  },
  {
   "cell_type": "code",
   "execution_count": 11,
   "id": "03c80333-ab58-4662-938e-d18664c542c5",
   "metadata": {},
   "outputs": [],
   "source": [
    "# Unique epochs to animate\n",
    "epochs = list(color_map.keys())\n",
    "\n",
    "# 1. Create the figure\n",
    "fig, ax = plt.subplots()\n",
    "\n",
    "# 2. Animation update function with scatter plot\n",
    "def update(frame):\n",
    "    ax.clear()  # Clear the current contents of the axis\n",
    "    epoch = epochs[frame]\n",
    "    ax.scatter(traces.loc[traces.Epoch == epoch, 'Zr'], \n",
    "               traces.loc[traces.Epoch == epoch, 'Th'], \n",
    "               color=color_map[epoch], \n",
    "               label=epoch)\n",
    "    ax.set_title(f\"Zr and Th Concentrations - Epoch: {epoch}\")\n",
    "    ax.set_xlabel(\"Zr [ppm]\")\n",
    "    ax.set_ylabel(\"Th [ppm]\")\n",
    "    ax.legend(title='Epoch')\n",
    "    ax.set_xlim(traces['Zr'].min(), traces['Zr'].max())\n",
    "    ax.set_ylim(traces['Th'].min(), traces['Th'].max())\n",
    "\n",
    "# 3. Create animation using FuncAnimation\n",
    "anim = FuncAnimation(fig, update, frames=len(epochs), interval=1000, repeat=True)\n",
    "\n",
    "# Save the animation\n",
    "anim.save('Figures/volcanic_compositions_animation.gif', writer='pillow', dpi=100)\n",
    "\n",
    "# Don't show\n",
    "plt.close(fig)"
   ]
  },
  {
   "cell_type": "markdown",
   "id": "5f908f90-c72d-4a10-afaf-af390faa6160",
   "metadata": {},
   "source": [
    "### **Example 4 [continued from B3]: Köppen-Geiger maps for 1901–2099**\n",
    "\n",
    "Let's explore the animation of geospatial raster data using the Köppen-Geiger climate zones. By visualizing the transitions between various climate zones over defined periods, we can effectively demonstrate how climate classifications evolve over time."
   ]
  },
  {
   "cell_type": "markdown",
   "id": "2de65239-1ddf-43cd-aa89-da2a3299e0ee",
   "metadata": {},
   "source": [
    "Create lists of TIFF files and titles for each period and the custom colormap can be done first:"
   ]
  },
  {
   "cell_type": "code",
   "execution_count": 12,
   "id": "97bbc53c-0911-4f57-abac-f839e6245fd1",
   "metadata": {},
   "outputs": [],
   "source": [
    "tif_list = [\n",
    "    '../Datasets/koppen_geiger/koppen_geiger_1p0_1901_1930.tiff',\n",
    "    '../Datasets/koppen_geiger/koppen_geiger_1p0_1931_1960.tiff',\n",
    "    '../Datasets/koppen_geiger/koppen_geiger_1p0_1961_1990.tiff',\n",
    "    '../Datasets/koppen_geiger/koppen_geiger_1p0_1991_2020.tiff',\n",
    "    '../Datasets/koppen_geiger/koppen_geiger_1p0_2041_2070_ssp245.tiff',\n",
    "    '../Datasets/koppen_geiger/koppen_geiger_1p0_2071_2099_ssp245.tiff'\n",
    "]\n",
    "\n",
    "titles = [\n",
    "    '1901-1930',\n",
    "    '1931-1960',\n",
    "    '1961-1990',\n",
    "    '1991-2020',\n",
    "    '2041-2070 (SSP245)',\n",
    "    '2071-2099 (SSP245)'\n",
    "]\n",
    "\n",
    "file_path = '../Datasets/koppen_geiger/koppen_table.csv'\n",
    "colors = pd.read_csv(file_path)\n",
    "koppen_colors = [\n",
    "    (row['Red']/255, row['Green']/255, row['Blue']/255) for idx, row in colors.iterrows()\n",
    "]\n",
    "koppen_cmap = plt.cm.colors.ListedColormap(koppen_colors)"
   ]
  },
  {
   "cell_type": "markdown",
   "id": "a0f4902d-2fac-45c4-a652-38f4da8cc919",
   "metadata": {},
   "source": [
    "The overall structure and logic for creating the animation remain the same, regardless of whether we are dealing with raster data (like images) or vector data (like points, lines, and polygons). However, the specific plotting functions we use differ based on the type of data. For the raster data here, we use the function `imshow`."
   ]
  },
  {
   "cell_type": "code",
   "execution_count": 13,
   "id": "240f67cf-cde9-4eec-8730-008552e16259",
   "metadata": {},
   "outputs": [],
   "source": [
    "# 1. Create the figure and plot the static elements\n",
    "fig, ax = plt.subplots(figsize=(12, 8), subplot_kw={'projection': ccrs.PlateCarree()})\n",
    "ax.add_feature(cfeature.COASTLINE)\n",
    "ax.add_feature(cfeature.BORDERS)\n",
    "ax.gridlines(draw_labels=True)\n",
    "\n",
    "# 2. Animation update function with image plot\n",
    "def update(frame):\n",
    "    # Load the current raster data\n",
    "    with rasterio.open(tif_list[frame]) as src:\n",
    "        data = src.read(1)  # Read the first band\n",
    "        transform = src.transform  # Get the transformation information\n",
    "\n",
    "    # Mask the zeros in the data\n",
    "    masked_data = np.ma.masked_equal(data, 0)\n",
    "\n",
    "    # Get extent\n",
    "    width = data.shape[1]\n",
    "    height = data.shape[0]\n",
    "    min_lon, min_lat = transform * (0, height)  # Bottom-left corner\n",
    "    max_lon, max_lat = transform * (width, 0)  # Top-right corner\n",
    "    extent = [min_lon, max_lon, min_lat, max_lat]\n",
    "\n",
    "    # Plot the masked data\n",
    "    img = ax.imshow(masked_data, origin='upper', extent=extent, cmap=koppen_cmap, \n",
    "                    transform=ccrs.PlateCarree(), vmin=1, vmax=len(colors))  # Use the number of classes\n",
    "\n",
    "    # Set title for the current frame\n",
    "    ax.set_title(f'Köppen-Geiger Climate Classifications - {titles[frame]}')\n",
    "\n",
    "# 3. Create animation using FuncAnimation\n",
    "anim = FuncAnimation(fig, update, frames=len(tif_list), interval=1000, repeat=True)\n",
    "\n",
    "# Save the animation as a GIF file\n",
    "anim.save('Figures/koppen_geiger_animation.gif', writer='pillow', dpi=100)\n",
    "\n",
    "# Show the plot\n",
    "plt.close(fig)  # Close the plot display"
   ]
  },
  {
   "cell_type": "markdown",
   "id": "37c20d42-8da9-45be-9e30-fb0b783b2e3b",
   "metadata": {},
   "source": [
    "### **Example 5 [continued from B3]: ERA5 climate reanalyis**"
   ]
  },
  {
   "cell_type": "markdown",
   "id": "ef4ba991-a00e-4d55-9b8a-173181941623",
   "metadata": {},
   "source": [
    "The function `imshow` can also be used to animate the netCDF climate data introduced in notebook B3. We first load and prepare the multidimensional dataset. We can also determine the constant extent of the dataset that needs entered in the `imshow` function outside the animation update function."
   ]
  },
  {
   "cell_type": "code",
   "execution_count": 14,
   "id": "33641adb-fe29-4be5-a3cf-c8a20857a128",
   "metadata": {},
   "outputs": [],
   "source": [
    "import xarray as xr\n",
    "\n",
    "# Load the dataset\n",
    "ERA5 = xr.open_dataset('../Datasets/ERA5_snippet.nc')\n",
    "\n",
    "# Convert Kelvin to Celsius\n",
    "ERA5['t2m'] = ERA5['t2m'] - 273.15\n",
    "\n",
    "# Resample to weekly means\n",
    "ERA5 = ERA5.resample(time='1W').mean()\n",
    "\n",
    "# Determine the extent based on the dataset\n",
    "min_lon, max_lon = ERA5.longitude.min().values, ERA5.longitude.max().values\n",
    "min_lat, max_lat = ERA5.latitude.min().values, ERA5.latitude.max().values"
   ]
  },
  {
   "cell_type": "markdown",
   "id": "9c1077a8-dc14-4bbb-a32e-3454f7427df7",
   "metadata": {},
   "source": [
    "**Exercise:** One important step is missing to create the animation. Complete the animation by adding the necessary code and also save this animation."
   ]
  },
  {
   "cell_type": "code",
   "execution_count": 15,
   "id": "518a6637-f7da-4cac-9c8b-965200de127c",
   "metadata": {},
   "outputs": [],
   "source": [
    "# 1. Create the figure and plot the static elements\n",
    "fig, ax = plt.subplots(figsize=(10, 6), subplot_kw={'projection': ccrs.PlateCarree()})\n",
    "ax.coastlines()\n",
    "ax.gridlines(draw_labels=True)\n",
    "\n",
    "# 2. Initialize image object on the axes (to be updated in animation)\n",
    "t2m_plot = ax.imshow(ERA5['t2m'][0, :, :], origin='upper', \n",
    "                     extent=[min_lon, max_lon, min_lat, max_lat], \n",
    "                     transform=ccrs.PlateCarree(), cmap='viridis', \n",
    "                     animated=True)\n",
    "\n",
    "# 3. Animation update function with image plot\n",
    "def animate(i):\n",
    "    t2m_plot.set_array(ERA5['t2m'][i, :, :])\n",
    "    ax.set_title(f'2-Meter Temperature [°C] on {str(ERA5.time[i].values)[:10]} over Germany')\n",
    "    \n",
    "# 4. Create animation using FuncAnimation\n",
    "anim = FuncAnimation(fig, animate, frames=len(ERA5['time']), blit=False) # interval=100\n",
    "\n",
    "# Save as a GIF\n",
    "anim.save('Figures/ERA5_animation.gif', writer='pillow')\n",
    "\n",
    "# Don't show\n",
    "plt.close(fig)"
   ]
  },
  {
   "cell_type": "code",
   "execution_count": null,
   "id": "a4d5c02b",
   "metadata": {},
   "outputs": [],
   "source": []
  }
 ],
 "metadata": {
  "kernelspec": {
   "display_name": "Python 3 (ipykernel)",
   "language": "python",
   "name": "python3"
  },
  "language_info": {
   "codemirror_mode": {
    "name": "ipython",
    "version": 3
   },
   "file_extension": ".py",
   "mimetype": "text/x-python",
   "name": "python",
   "nbconvert_exporter": "python",
   "pygments_lexer": "ipython3",
   "version": "3.11.7"
  }
 },
 "nbformat": 4,
 "nbformat_minor": 5
}
