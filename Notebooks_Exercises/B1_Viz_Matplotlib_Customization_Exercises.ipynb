{
 "cells": [
  {
   "cell_type": "markdown",
   "id": "105ed655",
   "metadata": {},
   "source": [
    "<img src=\"../Images/DSC_Logo.png\" style=\"width: 400px;\">"
   ]
  },
  {
   "cell_type": "markdown",
   "id": "76a770ba",
   "metadata": {},
   "source": [
    "# Customization Options in Matplotlib\n",
    "\n",
    "This notebook explores basic plotting workflows and customization options for plotting in matplotlib using exemplary datasets of sine and cosine waves."
   ]
  },
  {
   "cell_type": "code",
   "execution_count": null,
   "id": "b61ff0b0",
   "metadata": {},
   "outputs": [],
   "source": [
    "import matplotlib as mpl\n",
    "import matplotlib.pyplot as plt\n",
    "import numpy as np"
   ]
  },
  {
   "cell_type": "code",
   "execution_count": null,
   "id": "3d3b9c72",
   "metadata": {},
   "outputs": [],
   "source": [
    "# Sample data\n",
    "x = np.linspace(0, 10, 100) # 100 evenly spaced values over the interval from 0 to 10\n",
    "y_sin = np.sin(x)\n",
    "y_cos = np.cos(x)"
   ]
  },
  {
   "cell_type": "markdown",
   "id": "34e05a74",
   "metadata": {},
   "source": [
    "## 1. Matplotlib Global Parameters\n",
    "\n",
    "Matplotlib allows users to customize plots using global parameters through the `rcParams` dictionary, which controls various aspects like font size, figure size, line width, and more. Resetting parameters to defaults can be done using `plt.rcdefaults()`. Global parameters can help to maintain a consistent plotting layout in research projects (publications, data stories, etc.) to enhance clarity and professionalism in visual representations.\n",
    "\n",
    "View the currently available global parameters in matplotlib by inspecting the `plt.rcParams` dictionary:"
   ]
  },
  {
   "cell_type": "code",
   "execution_count": null,
   "id": "aef53799",
   "metadata": {
    "scrolled": true
   },
   "outputs": [],
   "source": [
    "mpl.rcParams.keys"
   ]
  },
  {
   "cell_type": "markdown",
   "id": "4c2c4e0e",
   "metadata": {},
   "source": [
    "Example: Set the global font size to 14 points:"
   ]
  },
  {
   "cell_type": "code",
   "execution_count": null,
   "id": "03326ad1",
   "metadata": {},
   "outputs": [],
   "source": [
    "plt.rcParams['font.size'] = 14"
   ]
  },
  {
   "cell_type": "markdown",
   "id": "4c9f1e3a",
   "metadata": {},
   "source": [
    "## 2. Create Figure"
   ]
  },
  {
   "cell_type": "code",
   "execution_count": null,
   "id": "c6900965",
   "metadata": {},
   "outputs": [],
   "source": [
    "# Create a figure with a specified size\n",
    "plt.figure(figsize=(10, 5))\n",
    "plt.plot(x, y_sin)\n",
    "plt.show()"
   ]
  },
  {
   "cell_type": "markdown",
   "id": "7e80e6b6-b061-4eb4-8acb-5f38fc5cc7cd",
   "metadata": {},
   "source": [
    "## 3. Subplots"
   ]
  },
  {
   "cell_type": "code",
   "execution_count": null,
   "id": "36b06775",
   "metadata": {
    "scrolled": true
   },
   "outputs": [],
   "source": [
    "# Create a figure with subplots - column-wise\n",
    "plt.figure(figsize=(10, 5))\n",
    "plt.subplot(1, 2, 1)\n",
    "plt.plot(x, y_sin)\n",
    "plt.subplot(1, 2, 2)\n",
    "plt.plot(x, y_cos)\n",
    "plt.show()\n",
    "\n",
    "# Create a figure with subplots - row-wise\n",
    "plt.figure(figsize=(12, 6))\n",
    "plt.subplot(2, 1, 1)\n",
    "plt.plot(x, y_sin)\n",
    "plt.subplot(2, 1, 2)\n",
    "plt.plot(x, y_cos)\n",
    "plt.show()"
   ]
  },
  {
   "cell_type": "markdown",
   "id": "42d5e0e9-7ba6-4f7d-89a4-3219feeef3e4",
   "metadata": {},
   "source": [
    "### Demonstrate subplots:"
   ]
  },
  {
   "cell_type": "code",
   "execution_count": null,
   "id": "09274e74-4b21-49b3-a215-282578e7ef21",
   "metadata": {},
   "outputs": [],
   "source": [
    "fig = plt.figure()\n",
    "\n",
    "ax1 = fig.add_subplot(2, 3, 1)\n",
    "ax1.text(0.5, 0.5, str((2, 3, 1)), fontsize=18, ha='center')\n",
    "\n",
    "ax2 = fig.add_subplot(2, 3, 2)\n",
    "ax2.text(0.5, 0.5, str((2, 3, 2)), fontsize=18, ha='center')\n",
    "\n",
    "ax3 = fig.add_subplot(2, 3, 3)\n",
    "ax3.text(0.5, 0.5, str((2, 3, 3)), fontsize=18, ha='center')\n",
    "\n",
    "ax4 = fig.add_subplot(2, 3, 4)\n",
    "ax4.text(0.5, 0.5, str((2, 3, 4)), fontsize=18, ha='center')\n",
    "\n",
    "ax5 = fig.add_subplot(2, 3, 5)\n",
    "ax5.text(0.5, 0.5, str((2, 3, 5)), fontsize=18, ha='center')\n",
    "\n",
    "ax6 = fig.add_subplot(2, 3, 6)\n",
    "ax6.text(0.5, 0.5, str((2, 3, 6)), fontsize=18, ha='center')\n",
    "\n",
    "plt.tight_layout()\n",
    "plt.show()"
   ]
  },
  {
   "cell_type": "markdown",
   "id": "d1f850a5",
   "metadata": {},
   "source": [
    "## 4. Layout: Data Customizations"
   ]
  },
  {
   "cell_type": "code",
   "execution_count": null,
   "id": "a70887fe",
   "metadata": {},
   "outputs": [],
   "source": [
    "# Plot the data with some customization\n",
    "plt.plot(x, y_sin, color='red', linewidth=3, linestyle='--')\n",
    "plt.show()"
   ]
  },
  {
   "cell_type": "markdown",
   "id": "d797ab8d",
   "metadata": {},
   "source": [
    "## 5. Layout: Figure Customizations"
   ]
  },
  {
   "cell_type": "code",
   "execution_count": null,
   "id": "316d3199",
   "metadata": {},
   "outputs": [],
   "source": [
    "# Set title and axis labels with custom font size\n",
    "plt.title('Sine Wave Plot', fontsize=16)\n",
    "plt.xlabel('X-axis (0 to 10)', fontsize=14)\n",
    "plt.ylabel('Y-axis (Sine values)', fontsize=14)\n",
    "\n",
    "# Set custom ticks on x-axis\n",
    "plt.xticks(np.arange(0, 11, 1))  \n",
    "\n",
    "# Add x-axis line at y=0\n",
    "plt.axhline(0, color='black', linewidth=0.8)\n",
    "\n",
    "# Add text and symbol\n",
    "plt.annotate('Peak', xy=(np.pi/2, 1), xytext=(2, 1.2),\n",
    "             arrowprops=dict(facecolor='black', arrowstyle='->'),\n",
    "             fontsize=12)\n",
    "\n",
    "# Add a grid\n",
    "plt.grid(True, linestyle='--', alpha=0.7)\n",
    "\n",
    "# Set limits for axes\n",
    "plt.xlim(0, 10)\n",
    "plt.ylim(-1.5, 1.5)\n",
    "\n",
    "plt.show()"
   ]
  },
  {
   "cell_type": "markdown",
   "id": "26679b66",
   "metadata": {},
   "source": [
    "## 6. Putting Everything Together"
   ]
  },
  {
   "cell_type": "code",
   "execution_count": null,
   "id": "513c5dab",
   "metadata": {},
   "outputs": [],
   "source": [
    "# Create a figure\n",
    "plt.figure(figsize=(10, 5))\n",
    "\n",
    "# Customizations for data and figure in the first subplot\n",
    "plt.subplot(1, 2, 1)\n",
    "plt.plot(x, y_sin, color='blue', linewidth=3, linestyle='--', label='Sine Wave')\n",
    "plt.title('Sine Wave Plot', fontsize=16)\n",
    "plt.xlabel('X-axis (0 to 10)', fontsize=14)\n",
    "plt.ylabel('Y-axis (Sine values)', fontsize=14)\n",
    "plt.xticks(np.arange(0, 11, 1))  # Set custom ticks on x-axis\n",
    "plt.axhline(0, color='black', linewidth=0.8)  # Add x-axis line at y=0\n",
    "plt.annotate('Peak', xy=(np.pi/2, 1), xytext=(2, 1.2),\n",
    "             arrowprops=dict(facecolor='black', arrowstyle='->'),\n",
    "             fontsize=12)\n",
    "plt.grid(True, linestyle='--', alpha=0.7)\n",
    "plt.xlim(0, 10)\n",
    "plt.ylim(-1.5, 1.5)\n",
    "plt.legend() \n",
    "\n",
    "# Customizations for data and figure in the second subplot\n",
    "plt.subplot(1, 2, 2)\n",
    "plt.plot(x, y_cos, color='red', linewidth=3, linestyle=':', label='Cosine Wave')\n",
    "plt.title('Cosine Wave Plot', fontsize=16)\n",
    "plt.xlabel('X-axis (0 to 5)', fontsize=14)\n",
    "plt.ylabel('Y-axis (Cos values)', fontsize=14)\n",
    "plt.grid(True, linestyle='--', alpha=0.7)\n",
    "plt.xlim(0, 5)\n",
    "plt.ylim(-1.5, 1.5)\n",
    "plt.legend()\n",
    "\n",
    "# Show the complete figure with both subplots\n",
    "plt.show()"
   ]
  },
  {
   "cell_type": "markdown",
   "id": "b34f0eed",
   "metadata": {},
   "source": [
    "## 7. `plt.tight_layout`\n",
    "\n",
    "Use `plt.tight_layout()` to prevent overlap of subplots or multiple elements (like legends, labels, and titles) that happen to overlap or spread too closely against each other. Plot the figure with and without the `plt.tight_layout()`setting ..."
   ]
  },
  {
   "cell_type": "code",
   "execution_count": null,
   "id": "a7aad7d8",
   "metadata": {},
   "outputs": [],
   "source": [
    "# Create a figure\n",
    "plt.figure(figsize=(10, 5))\n",
    "\n",
    "# Customizations for data and figure in the first subplot\n",
    "plt.subplot(1, 2, 1)\n",
    "plt.plot(x, y_sin, color='blue', linewidth=3, linestyle='--', label='Sine Wave')\n",
    "plt.title('Sine Wave Plot', fontsize=16)\n",
    "plt.xlabel('X-axis (0 to 10)', fontsize=14)\n",
    "plt.ylabel('Y-axis (Sine values)', fontsize=14)\n",
    "plt.xticks(np.arange(0, 11, 1))  # Set custom ticks on x-axis\n",
    "plt.axhline(0, color='black', linewidth=0.8)  # Add x-axis line at y=0\n",
    "plt.annotate('Peak', xy=(np.pi/2, 1), xytext=(2, 1.2),\n",
    "             arrowprops=dict(facecolor='black', arrowstyle='->'),\n",
    "             fontsize=12)\n",
    "plt.grid(True, linestyle='--', alpha=0.7)\n",
    "plt.xlim(0, 10)\n",
    "plt.ylim(-1.5, 1.5)\n",
    "plt.legend() \n",
    "\n",
    "# Customizations for data and figure in the second subplot\n",
    "plt.subplot(1, 2, 2)\n",
    "plt.plot(x, y_cos, color='red', linewidth=3, linestyle=':', label='Cosine Wave')\n",
    "plt.title('Cosine Wave Plot', fontsize=16)\n",
    "plt.xlabel('X-axis (0 to 5)', fontsize=14)\n",
    "plt.ylabel('Y-axis (Cos values)', fontsize=14)\n",
    "plt.grid(True, linestyle='--', alpha=0.7)\n",
    "plt.xlim(0, 5)\n",
    "plt.ylim(-1.5, 1.5)\n",
    "plt.legend()\n",
    "\n",
    "# Adjust layout to prevent overlap\n",
    "plt.tight_layout()  \n",
    "\n",
    "# Show the complete figure with both subplots\n",
    "plt.show()"
   ]
  },
  {
   "cell_type": "markdown",
   "id": "d90c3cbc",
   "metadata": {},
   "source": [
    "## 8. Using the `ax` (axes) object\n",
    "\n",
    "Using the `ax` (axes) object is beneficial particularly for gaining more control over plots. It helps keep code clean and organized, which is particularly useful when working with multiple subplots. The `ax` object allows for direct manipulation of the properties of the axes and the plot, making it easy to customize titles, labels, limits, grids, ticks, and legends for each subplot separately."
   ]
  },
  {
   "cell_type": "code",
   "execution_count": null,
   "id": "77471108",
   "metadata": {},
   "outputs": [],
   "source": [
    "# Define the figure with two subplots first\n",
    "fig, axs = plt.subplots(1, 2, figsize=(10, 5))\n",
    "\n",
    "# Customizations first subplot\n",
    "axs[0].plot(x, y_sin, color='blue', linewidth=3, linestyle='--', label='Sine Wave')\n",
    "axs[0].set_title('Sine Wave Plot', fontsize=16)\n",
    "axs[0].set_xlabel('X-axis (0 to 10)', fontsize=14)\n",
    "axs[0].set_ylabel('Y-axis (Sine values)', fontsize=14)\n",
    "axs[0].set_xticks(np.arange(0, 11, 1))  # Set custom ticks on x-axis\n",
    "axs[0].axhline(0, color='black', linewidth=0.8)  # Add x-axis line at y=0\n",
    "axs[0].annotate('Peak', xy=(np.pi/2, 1), xytext=(2, 1.2),\n",
    "                arrowprops=dict(facecolor='black', arrowstyle='->'), fontsize=12)\n",
    "axs[0].grid(True, linestyle='--', alpha=0.7)\n",
    "axs[0].set_xlim(0, 10)\n",
    "axs[0].set_ylim(-1.5, 1.5)\n",
    "axs[0].legend()\n",
    "\n",
    "# Customizations second subplot\n",
    "axs[1].plot(x, y_cos, color='red', linewidth=3, linestyle=':', label='Cosine Wave')\n",
    "axs[1].set_title('Cosine Wave Plot', fontsize=16)\n",
    "axs[1].set_xlabel('X-axis (0 to 10)', fontsize=14)\n",
    "axs[1].set_ylabel('Y-axis (Cos values)', fontsize=14)\n",
    "axs[1].grid(True, linestyle='--', alpha=0.7)\n",
    "axs[1].set_xlim(0, 5)\n",
    "axs[1].set_ylim(-1.5, 1.5)\n",
    "axs[1].legend()\n",
    "\n",
    "# Adjust layout to prevent overlap\n",
    "plt.tight_layout()  \n",
    "\n",
    "# Show the complete figure with both subplots\n",
    "plt.show()"
   ]
  },
  {
   "cell_type": "markdown",
   "id": "41c01f20-d720-453e-b889-33118817205c",
   "metadata": {},
   "source": [
    "## 9. Save figure to file\n",
    "\n",
    "- `bbox_inches='tight'` ensures that there is no excess whitespace around the edges of the saved figure\n",
    "- `dpi=` is used to define the resolution of the saved figure\n",
    "- figures can be saved in many formats including vector formats such as pdf"
   ]
  },
  {
   "cell_type": "code",
   "execution_count": null,
   "id": "2f404737-3f0a-4675-9958-93e6bd8bb3eb",
   "metadata": {},
   "outputs": [],
   "source": [
    "fig.savefig('Figures/sine_cosine_matplotlib.png', dpi=300, bbox_inches='tight')"
   ]
  },
  {
   "cell_type": "code",
   "execution_count": null,
   "id": "ae01d33c-4130-4c6e-89f3-a94c7e2561f1",
   "metadata": {},
   "outputs": [],
   "source": []
  }
 ],
 "metadata": {
  "kernelspec": {
   "display_name": "Python 3 (ipykernel)",
   "language": "python",
   "name": "python3"
  },
  "language_info": {
   "codemirror_mode": {
    "name": "ipython",
    "version": 3
   },
   "file_extension": ".py",
   "mimetype": "text/x-python",
   "name": "python",
   "nbconvert_exporter": "python",
   "pygments_lexer": "ipython3",
   "version": "3.11.10"
  }
 },
 "nbformat": 4,
 "nbformat_minor": 5
}
