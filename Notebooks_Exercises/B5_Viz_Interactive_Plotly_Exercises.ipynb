{
 "cells": [
  {
   "cell_type": "markdown",
   "id": "08d29383-9fef-4738-8036-861335a4dae3",
   "metadata": {},
   "source": [
    "<img src=\"../Images/DSC_Logo.png\" style=\"width: 400px;\">"
   ]
  },
  {
   "cell_type": "markdown",
   "id": "76629e45-e042-47ac-b0a4-473d732f79e6",
   "metadata": {},
   "source": [
    "# Interactive Plots: Plotly"
   ]
  },
  {
   "cell_type": "markdown",
   "id": "f9801f38-4330-435e-9fa2-7b8858c5bbff",
   "metadata": {},
   "source": [
    "To create interactive visualisations in Python, we focus on plotly. This library enables the creation of web-ready plots that increase user engagement through features. Plotly automatically enables zooming (zoom in on specific areas of the plot), panning (click and drag the plot area), and hovering (detailed information about a specific data point is shown). For web deployment, plotly is often paired with Dash to build interactive applications. `fig.write_html` can be used to save an interactive plotly visualization as an HTML file. Alternative libraries such as bokeh exist to create web-ready interactive plots."
   ]
  },
  {
   "cell_type": "code",
   "execution_count": null,
   "id": "03c800b4-1cf4-4f0a-9730-8ecda8442b07",
   "metadata": {},
   "outputs": [],
   "source": [
    "import numpy as np\n",
    "import pandas as pd\n",
    "import matplotlib.pyplot as plt\n",
    "import rasterio\n",
    "import plotly.express as px\n",
    "import plotly.graph_objects as go"
   ]
  },
  {
   "cell_type": "markdown",
   "id": "8a199b47-ab39-4437-a2b2-92074f5d8cbc",
   "metadata": {},
   "source": [
    "## 1. Zooming, Panning, and Hovering Elements"
   ]
  },
  {
   "cell_type": "markdown",
   "id": "02571e3b-0a58-406f-90f8-d07e34811653",
   "metadata": {},
   "source": [
    "### **Example 1 [continued from B2]: Antarctic CO2 concentrations**\n",
    "\n",
    "Let's create an interactive plot of the time series data showing CO2 concentrations in Antarctica, allowing for the exploration and examination of specific time periods  Implement interactive zooming and panning functionalities so users can seamlessly navigate through the time series data."
   ]
  },
  {
   "cell_type": "code",
   "execution_count": null,
   "id": "c133ef24-9a37-4b7b-b035-6e81d24e47df",
   "metadata": {},
   "outputs": [],
   "source": [
    "# Load dataset as before\n",
    "path = '../Datasets/antarctica/antarctica2015co2composite-noaa.txt' \n",
    "co2_antarctica = pd.read_csv(path, \n",
    "                             skiprows=142,\n",
    "                             sep=\"\\t\")"
   ]
  },
  {
   "cell_type": "markdown",
   "id": "99751320-9637-4ff1-8eb2-d9e378c5d425",
   "metadata": {},
   "source": [
    "Importing plotly as `plotly.express` is for quick and straightforward visualizations.\n",
    "\n",
    "Create a Plotly Express line plot:"
   ]
  },
  {
   "cell_type": "code",
   "execution_count": null,
   "id": "39c6243f-414d-4619-a761-c71eb9d19026",
   "metadata": {},
   "outputs": [],
   "source": [
    "fig = px.line(\n",
    "    co2_antarctica, \n",
    "    x='age_gas_calBP', \n",
    "    y='co2_ppm',\n",
    "    title='Antarctic Atmospheric CO2 Concentrations',\n",
    "    labels={'age_gas_calBP': 'Years Before Present (BP)', 'co2_ppm': 'CO2 Concentration (ppm)'},\n",
    "    template='plotly_white'\n",
    "    # markers=True\n",
    ")\n",
    "\n",
    "# Update the trace to specify the color\n",
    "fig.update_traces(line=dict(color='blue'))\n",
    "\n",
    "# Update the layout for a centered title and custom dimensions\n",
    "fig.update_layout(\n",
    "    title_x=0.5,  # Center the title\n",
    "    width=1000,   # Width of the plot\n",
    "    height=600    # Height of the plot\n",
    ")\n",
    "\n",
    "# Invert the x-axis\n",
    "fig.update_xaxes(autorange='reversed')\n",
    "\n",
    "# Show the plot\n",
    "fig.show()"
   ]
  },
  {
   "cell_type": "markdown",
   "id": "1520de42-e33d-4794-87db-08df6dc0db8e",
   "metadata": {},
   "source": [
    "Create a Plotly Express scatter plot:"
   ]
  },
  {
   "cell_type": "code",
   "execution_count": null,
   "id": "6497b3e7-ad7a-470c-b80d-8184f668bc21",
   "metadata": {},
   "outputs": [],
   "source": [
    "fig = px.scatter(\n",
    "    co2_antarctica, \n",
    "    x='age_gas_calBP', \n",
    "    y='co2_ppm',\n",
    "    title='Antarctic Atmospheric CO2 Concentrations',\n",
    "    labels={'age_gas_calBP': 'Years Before Present (BP)', 'co2_ppm': 'CO2 Concentration (ppm)'},\n",
    "    template='plotly_white',\n",
    ")\n",
    "\n",
    "# Set the size and color of the markers after creating the plot\n",
    "fig.update_traces(marker=dict(size=3, color='blue')) \n",
    "\n",
    "# Update the layout for a centered title and custom dimensions\n",
    "fig.update_layout(\n",
    "    title_x=0.5,  # Center the title\n",
    "    width=1000,   # Width of the plot\n",
    "    height=600    # Height of the plot\n",
    ")\n",
    "\n",
    "# Invert the x-axis\n",
    "fig.update_xaxes(autorange='reversed')\n",
    "\n",
    "# Show the plot\n",
    "fig.show()"
   ]
  },
  {
   "cell_type": "markdown",
   "id": "9747815d-b147-4bb4-b1bf-f8d24ffb443d",
   "metadata": {},
   "source": [
    "Importing plotly as `plotly.graph_objects` is required when detailed control over plot elements is needed. Below we see that `add_trace` is set before the definition of a scatter plot. In plotly, a trace is a data representation or a visual layer in a plot that corresponds to a specific dataset or series of data. Each trace can be thought of as one individual element of the overall visualization. Traces are the building blocks of plotly figures, and it is possible to have multiple traces in a single figure to represent different datasets or different aspects of the data. \n",
    "\n",
    "To reproduce the time series plot from notebook B2, two traces are required: a `go.Scatter` plot that is set up with lines and markers, and a filled area also set up with a `go.Scatter` plot in the first place. \n",
    "\n",
    "`update_` is generally used to customize the overall layout and properties of the figure, including titles, axis labels, and template styles. For example, the `update_xaxes` method is used to reverse the axis order to show the timeline as years before present from left to right."
   ]
  },
  {
   "cell_type": "code",
   "execution_count": null,
   "id": "06ee0503-42b4-4231-8a6c-f42266ab4984",
   "metadata": {},
   "outputs": [],
   "source": [
    "# Create a plotly go figure\n",
    "fig = go.Figure()\n",
    "\n",
    "# Add the CO2 concentration line plot with markers\n",
    "fig.add_trace(go.Scatter(\n",
    "    x=co2_antarctica['age_gas_calBP'],\n",
    "    y=co2_antarctica['co2_ppm'],\n",
    "    mode='lines+markers',\n",
    "    marker=dict(size=3),\n",
    "    line=dict(width=1),\n",
    "    name='CO2 Concentration (ppm)',\n",
    "    line_shape='linear',\n",
    "    marker_color='blue',\n",
    "    showlegend=False\n",
    "))\n",
    "\n",
    "# Add the filled area for uncertainty (± 1 Standard Deviation)\n",
    "fig.add_trace(go.Scatter(\n",
    "    x=co2_antarctica['age_gas_calBP'].tolist() + co2_antarctica['age_gas_calBP'][::-1].tolist(),\n",
    "    y=(co2_antarctica['co2_ppm'] + co2_antarctica['co2_1s_ppm']).tolist() + (co2_antarctica['co2_ppm'] - co2_antarctica['co2_1s_ppm'])[::-1].tolist(),\n",
    "    fill='toself',\n",
    "    fillcolor='rgba(0, 0, 255, 0.2)',\n",
    "    line=dict(color='rgba(255,255,255,0)'),\n",
    "    hoverinfo='skip',\n",
    "    showlegend=False,\n",
    "    name='± 1 Standard Deviation'\n",
    "))\n",
    "\n",
    "# Update the layout for a centered title and custom dimensions\n",
    "fig.update_layout(\n",
    "    title_x=0.5,  # Center the title\n",
    "    width=1000,   # Width of the plot\n",
    "    height=600    # Height of the plot\n",
    ")\n",
    "\n",
    "# Invert the x-axis\n",
    "fig.update_xaxes(autorange=\"reversed\")\n",
    "\n",
    "# Update layout for title and labels\n",
    "fig.update_layout(\n",
    "    title={\n",
    "        'text': 'Antarctic Atmospheric CO2 Concentrations',\n",
    "        'x': 0.5,  # Center the title\n",
    "        'xanchor': 'center'\n",
    "    },\n",
    "    xaxis_title='Years Before Present (BP)',\n",
    "    yaxis_title='CO2 Concentration (ppm)',\n",
    "    template='plotly_white'\n",
    ")\n",
    "\n",
    "# Show the plot\n",
    "fig.show()"
   ]
  },
  {
   "cell_type": "markdown",
   "id": "6a6edced-d180-4141-92f8-eaafae7c0034",
   "metadata": {},
   "source": [
    "### **Example 2 [continued from B2]: Chemical concentrations in volcanic tephra**"
   ]
  },
  {
   "cell_type": "code",
   "execution_count": null,
   "id": "5cd12292-9076-4b38-aa0e-03b724a13e62",
   "metadata": {},
   "outputs": [],
   "source": [
    "# Load dataset as before\n",
    "path = '../Datasets/Smith_glass_post_NYT_data.xlsx'\n",
    "traces = pd.read_excel(path, sheet_name=1)\n",
    "majors = pd.read_excel(path)\n",
    "\n",
    "# Define the color mapping for each epoch as before\n",
    "color_map = {'one':'red', 'two':'blue', 'three':'purple', 'three-b':'orange'}"
   ]
  },
  {
   "cell_type": "markdown",
   "id": "d359ea5b-6986-4723-99ee-eef4f3cd0e6c",
   "metadata": {},
   "source": [
    "**Exercise:** Create an interactive scatter plot to visualize the relationship between Zr and Th concentrations, with color-coding for different epochs using plotly. Assign colors to epochs by first using `color='Epoch'` and then specifying `color_discrete_map=color_map` to define color mappings inside the `go.Scatter` plot. Optimize the layout."
   ]
  },
  {
   "cell_type": "code",
   "execution_count": null,
   "id": "ca01f15f-05aa-4801-bf04-2a4f2549cf53",
   "metadata": {},
   "outputs": [],
   "source": []
  },
  {
   "cell_type": "markdown",
   "id": "a69ac296-fbd1-46a5-85ed-ad7aed1bc487",
   "metadata": {},
   "source": [
    "## 2. Subplots in Plotly\n",
    "\n",
    "`fig.add_trace` is a method used in plotly to add individual traces (plots) to a figure object. It is essential in subplots when manual control of the layout and content of each subplot in a grid defined by `make_subplots` is required."
   ]
  },
  {
   "cell_type": "code",
   "execution_count": null,
   "id": "c9b561f6-85eb-45a4-972f-87a78ddc04a2",
   "metadata": {},
   "outputs": [],
   "source": [
    "from plotly.subplots import make_subplots\n",
    "\n",
    "# Define oxide columns to plot in individual subplots\n",
    "oxide_columns = ['SIO2', 'CAO', 'FEO', 'MGO', 'P2O5', 'Cl']\n",
    "\n",
    "# Create a subplot grid with 2 rows and 3 columns\n",
    "fig = make_subplots(rows=2, cols=3, subplot_titles=oxide_columns)\n",
    "\n",
    "# Add traces for each oxide by specifying row and column\n",
    "fig.add_trace(\n",
    "    go.Histogram(\n",
    "        x=majors[oxide_columns[0]],\n",
    "        marker=dict(color='blue', line=dict(color='black', width=1))\n",
    "    ),\n",
    "    row=1, col=1\n",
    ")\n",
    "\n",
    "fig.add_trace(\n",
    "    go.Histogram(\n",
    "        x=majors[oxide_columns[1]],\n",
    "        marker=dict(color='green', line=dict(color='black', width=1))\n",
    "    ),\n",
    "    row=1, col=2\n",
    ")\n",
    "\n",
    "fig.add_trace(\n",
    "    go.Histogram(\n",
    "        x=majors[oxide_columns[2]],\n",
    "        marker=dict(color='purple', line=dict(color='black', width=1))\n",
    "    ),\n",
    "    row=1, col=3\n",
    ")\n",
    "\n",
    "fig.add_trace(\n",
    "    go.Histogram(\n",
    "        x=majors[oxide_columns[3]],\n",
    "        marker=dict(color='orange', line=dict(color='black', width=1))\n",
    "    ),\n",
    "    row=2, col=1\n",
    ")\n",
    "\n",
    "fig.add_trace(\n",
    "    go.Histogram(\n",
    "        x=majors[oxide_columns[4]],\n",
    "        marker=dict(color='red', line=dict(color='black', width=1))\n",
    "    ),\n",
    "    row=2, col=2\n",
    ")\n",
    "\n",
    "fig.add_trace(\n",
    "    go.Histogram(\n",
    "        x=majors[oxide_columns[5]],\n",
    "        marker=dict(color='cyan', line=dict(color='black', width=1))\n",
    "    ),\n",
    "    row=2, col=3\n",
    ")\n",
    "\n",
    "# Update axis labels for each subplot\n",
    "for i, column in enumerate(oxide_columns, start=1):\n",
    "    row = (i - 1) // 3 + 1\n",
    "    col = (i - 1) % 3 + 1\n",
    "    fig.update_xaxes(title_text=f\"{column} [ppm]\", row=row, col=col)\n",
    "    fig.update_yaxes(title_text=\"Counts\", row=row, col=col)\n",
    "\n",
    "# Update the layout\n",
    "fig.update_layout(\n",
    "    height=600,  # Adjust the height if necessary\n",
    "    title_text=\"Histograms of Major Element Concentrations\",\n",
    "    showlegend=False,\n",
    "    template='plotly_white'\n",
    ")\n",
    "\n",
    "# Update the layout for a centered title and custom dimensions\n",
    "fig.update_layout(\n",
    "    title_x=0.5,  # Center the title\n",
    "    width=1200,   # Width of the plot\n",
    "    height=500    # Height of the plot\n",
    ")\n",
    "\n",
    "# Show plot\n",
    "fig.show()"
   ]
  },
  {
   "cell_type": "markdown",
   "id": "0c6420f9-d4c5-48de-b381-fb3c98ae19d9",
   "metadata": {},
   "source": [
    "## 2. Interactive Maps"
   ]
  },
  {
   "cell_type": "markdown",
   "id": "cbb4f9bb-f0e0-4008-8224-838fb9e3593a",
   "metadata": {},
   "source": [
    "### **Example 3 [continued from B3]: Köppen-Geiger maps for 1901–2099**\n",
    "\n",
    "To create an interactive map with plotly using the Köppen-Geiger data, loading the dataset with rasterio and masking the dataset to exclude missing data for the oceans is similar as in the static plot. The `go.Heatmap` function, however, requires the color definition to be formatted differently."
   ]
  },
  {
   "cell_type": "code",
   "execution_count": null,
   "id": "4ba21d4e-244b-48e3-a299-23a814a2fa66",
   "metadata": {},
   "outputs": [],
   "source": [
    "import rasterio\n",
    "\n",
    "# Prepare custom colors\n",
    "file_path = '../Datasets/koppen_geiger/koppen_table.csv'\n",
    "colors = pd.read_csv(file_path)\n",
    "# Create a colorscale mapping\n",
    "colorscale = [[i/(len(colors)-1), f'rgba({row[\"Red\"]}, {row[\"Green\"]}, {row[\"Blue\"]}, 1)'] for i, row in colors.iterrows()]\n",
    "\n",
    "# Load raster data with rasterio\n",
    "file_path = '../Datasets/koppen_geiger/koppen_geiger_1p0_2071_2099_ssp245.tif'\n",
    "with rasterio.open(file_path) as src:\n",
    "    data = src.read(1)  # Read the first band\n",
    "\n",
    "# Mask the zeros in the data\n",
    "masked_data = np.ma.masked_equal(data, 0)"
   ]
  },
  {
   "cell_type": "markdown",
   "id": "be1db153-78f6-4ec3-875a-a63e8692e451",
   "metadata": {},
   "source": [
    "Creating a pandas dataframe from the masked raster data is necessary for handling hover text in the plotly plot:"
   ]
  },
  {
   "cell_type": "code",
   "execution_count": null,
   "id": "656512f4-b73a-4b8e-8773-00abb9266201",
   "metadata": {},
   "outputs": [],
   "source": [
    "# Dataframe for raster data\n",
    "df = pd.DataFrame(masked_data)"
   ]
  },
  {
   "cell_type": "markdown",
   "id": "bb50e8ce-7b99-4cdb-a58d-bf01cdf6378d",
   "metadata": {},
   "source": [
    "`value_to_symbol` mapping is used for the interactive visualization to translate raster values into their corresponding Köppen-Geiger climate class symbols for hover text:"
   ]
  },
  {
   "cell_type": "code",
   "execution_count": null,
   "id": "8bd64a2a-3953-4912-916c-12fc6af8c440",
   "metadata": {},
   "outputs": [],
   "source": [
    "# Create a mapping of raster values to their corresponding symbols\n",
    "value_to_symbol = {i + 1: symbol for i, symbol in enumerate(colors['Symbol'].tolist())}\n",
    "\n",
    "# Create hover text\n",
    "hover_text = df.applymap(lambda value: value_to_symbol.get(int(value), 'No Data') if not np.isnan(value) else 'No Data')"
   ]
  },
  {
   "cell_type": "markdown",
   "id": "f086daf9-2954-46cb-9295-8dcbf061e755",
   "metadata": {},
   "source": [
    "A `go.Figure` is initialized, and a `go.Heatmap` trace is added to visualize the climate classifications. Hover text is incorporated to display corresponding climate class symbols when users interact with the map.\n",
    "\n",
    "Plotly does not directly support Cartopy. However, contours and features using plotly's built-in geographical capabilities could be overlayed (not done here). Let's explore that in the next example."
   ]
  },
  {
   "cell_type": "code",
   "execution_count": null,
   "id": "58623599-7b72-4d80-85b5-3af54f16a152",
   "metadata": {},
   "outputs": [],
   "source": [
    "# Create go.Figure\n",
    "fig = go.Figure(data=go.Heatmap(\n",
    "    z=df,\n",
    "    colorscale=colorscale,  # Use the colorscale\n",
    "    zmin=1,  # Minimum value for the colormap\n",
    "    zmax=30,  # Maximum value for the colormap\n",
    "    text=hover_text.values,  # Set hover text to display class symbols\n",
    "    hoverinfo='text',  # Show text on hover\n",
    "    showscale=False  # Remove the color bar\n",
    "))\n",
    "\n",
    "# Update layout\n",
    "fig.update_layout(\n",
    "    title=\"Köppen-Geiger Climate Classifications (2071-2099)\",\n",
    "    title_x=0.5,  # Center the title\n",
    "    width=1200,   # Width of the plot\n",
    "    height=800,  # Height of the plot\n",
    "    template='plotly_white'\n",
    ")\n",
    "\n",
    "# Reverse the y-axis to correct the orientation\n",
    "fig.update_yaxes(autorange='reversed')\n",
    "\n",
    "# Show the plot\n",
    "fig.show()"
   ]
  },
  {
   "cell_type": "markdown",
   "id": "e8f6fb61-a9e8-4be5-8a78-427a7f21ab61",
   "metadata": {},
   "source": [
    "### **Example 4 [continued from B3]: POLARSTERN cruise PS141 master track**\n",
    "\n",
    "To convert the static polar map into an interactive map using plotly, we'll employ `go.Scattergeo` feature. This will allow us to plot the track on a map with interactive zooming and panning features. Plotly automatically displays essential geographical elements such as land areas and ocean regions without requiring manual overlaying of these features with `go.Scattergeo`. In contrast, with raster data any desired geographical context must be added explicitly. \n",
    "\n",
    "What movements can be observed in the Polarstern Expedition 141's path along the Antarctic coast?"
   ]
  },
  {
   "cell_type": "code",
   "execution_count": null,
   "id": "7d0376f7-e07c-49cd-ae34-d2ea1a2a2623",
   "metadata": {},
   "outputs": [],
   "source": [
    "# Load dataset\n",
    "path = '../Datasets/PS141_mastertrack.tab' \n",
    "track = pd.read_csv(path, skiprows=21, sep=\"\\t\")"
   ]
  },
  {
   "cell_type": "markdown",
   "id": "b7f847eb-e74b-4257-9f78-b1c1391e8555",
   "metadata": {},
   "source": [
    "Let's first create a plotly figure that displays the track of the Polarstern expedition on a flat geometric representation. Here with plotly express:"
   ]
  },
  {
   "cell_type": "code",
   "execution_count": null,
   "id": "4d64b657-e239-49e8-becd-489c8ef1d429",
   "metadata": {},
   "outputs": [],
   "source": [
    "# plotly express with px.line_geo\n",
    "fig = px.line_geo(track,\n",
    "                  lon='Longitude',\n",
    "                  lat='Latitude',\n",
    "                  title='Polarstern Expedition 141 Track')\n",
    "\n",
    "# Update the line color to red\n",
    "fig.update_traces(line=dict(color='red', width=2))\n",
    "\n",
    "# Update layout for specific dimensions\n",
    "fig.update_layout(\n",
    "    title_x=0.5,  # Center the title\n",
    "    width=1200,   # Width of the plot\n",
    "    height=800    # Height of the plot\n",
    ")\n",
    "\n",
    "# Show the plot\n",
    "fig.show()"
   ]
  },
  {
   "cell_type": "markdown",
   "id": "ac16e11d-2d13-479a-b272-9dab4270056d",
   "metadata": {},
   "source": [
    "And here with plotly go:"
   ]
  },
  {
   "cell_type": "code",
   "execution_count": null,
   "id": "ce178178-6bb5-4951-85cf-f94200332fa9",
   "metadata": {
    "scrolled": true
   },
   "outputs": [],
   "source": [
    "fig = go.Figure()\n",
    "\n",
    "# Add the track using Scattergeo\n",
    "fig.add_trace(go.Scattergeo(\n",
    "    lon=track['Longitude'],\n",
    "    lat=track['Latitude'],\n",
    "    mode='lines',  # Connect the points with lines\n",
    "    line=dict(color='red', width=2),  # Line color and width\n",
    "    name='Polarstern Expedition 141 Track'\n",
    "))\n",
    "\n",
    "# Update layout without the scope property\n",
    "fig.update_layout(\n",
    "    title='Polarstern Expedition 141 Track',\n",
    "    title_x=0.5,  # Center the title\n",
    "    width=1200,   # Width of the plot\n",
    "    height=800   # Height of the plot\n",
    ")\n",
    "\n",
    "# Show the plot\n",
    "fig.show()"
   ]
  },
  {
   "cell_type": "markdown",
   "id": "f4a9be0e-b730-4f0c-a995-5a1652a48cd0",
   "metadata": {},
   "source": [
    "Use a stereographic projection to to focus on the Antarctic. The `geo` configuration controls how the geographical map is presented in terms of the projection style, color schemes, and the extent of the visible area represented on the map. Again, here are solutions for both plotly express and plotly go:"
   ]
  },
  {
   "cell_type": "code",
   "execution_count": null,
   "id": "beea41ba-80af-44f3-b18f-7fcb4f5e31be",
   "metadata": {},
   "outputs": [],
   "source": [
    "# plotly express with px.line_geo\n",
    "fig = px.line_geo(\n",
    "    track,\n",
    "    lon='Longitude',\n",
    "    lat='Latitude',\n",
    "    title='Polarstern Expedition 141 Track'\n",
    ")\n",
    "\n",
    "# Update the line color to red and set line width\n",
    "fig.update_traces(line=dict(color='red', width=2))\n",
    "\n",
    "# Update layout without the scope property\n",
    "fig.update_layout(\n",
    "    title_x=0.5,  # Center the title\n",
    "    width=1000,   # Width of the plot\n",
    "    height=800,   # Height of the plot\n",
    "    geo=dict(\n",
    "        projection_type='stereographic',  # Polar projection to focus on the Antarctic\n",
    "        showland=True,\n",
    "        landcolor='gray',                 # Color for land\n",
    "        oceancolor='lightblue',           # Color for ocean\n",
    "        lonaxis=dict(range=[-180, 180]),  # Longitude range\n",
    "        lataxis=dict(range=[-90, -22.9])   # Latitude range for the Antarctic region\n",
    "    )\n",
    ")\n",
    "\n",
    "# Show the plot\n",
    "fig.show()"
   ]
  },
  {
   "cell_type": "code",
   "execution_count": null,
   "id": "4642d708-24d3-400f-b28a-c8e12baa8fe3",
   "metadata": {},
   "outputs": [],
   "source": [
    "fig = go.Figure()\n",
    "\n",
    "# Add the track using Scattergeo\n",
    "fig.add_trace(go.Scattergeo(\n",
    "    lon=track['Longitude'],\n",
    "    lat=track['Latitude'],\n",
    "    mode='lines',  # Connect the points with lines\n",
    "    line=dict(color='red', width=2),  # Line color and width\n",
    "    name='Polarstern Expedition 141 Track'\n",
    "))\n",
    "\n",
    "# Update layout without the scope property\n",
    "fig.update_layout(\n",
    "    title='Polarstern Expedition 141 Track',\n",
    "    title_x=0.5,  # Center the title\n",
    "    width=1000,   # Width of the plot\n",
    "    height=800,   # Height of the plot\n",
    "    geo=dict(\n",
    "        projection_type='stereographic',  # Polar projection to focus on the Antarctic\n",
    "        showland=True,\n",
    "        landcolor='gray',                 # Color for land\n",
    "        oceancolor='lightblue',           # Color for ocean\n",
    "        lonaxis=dict(range=[-180, 180]),  # Longitude range\n",
    "        lataxis=dict(range=[-90, -22.9])   # Latitude range for the Antarctic region\n",
    "    )\n",
    ")\n",
    "\n",
    "# Show the plot\n",
    "fig.show()"
   ]
  },
  {
   "cell_type": "markdown",
   "id": "e99dbfb7-5180-4a52-86cf-5738130a0eb3",
   "metadata": {},
   "source": [
    "### **Example 5 [continued from B2/B3]: Antarctic CO2 concentrations - stations**"
   ]
  },
  {
   "cell_type": "markdown",
   "id": "ec524987-71a5-44a4-9a37-1e398a6bdfb8",
   "metadata": {},
   "source": [
    "**Exercise:** Plot the Antarctic ice core stations using plotly express with `px.scatter_geo` instead of `px.line_geo` and use stereographic projection."
   ]
  },
  {
   "cell_type": "code",
   "execution_count": null,
   "id": "e2d914c4-13a4-469e-b46d-9ef533949c87",
   "metadata": {},
   "outputs": [],
   "source": [
    "# Site data from metadata \n",
    "site = [\"Dome C\", \"Vostok\", \"Siple Dome\", \"TALDICE\", \"EDML\"]\n",
    "elevation = [3233, 3488, 621, 2315, 2892]\n",
    "latitude = [-75.1, -78.47, -81.65, -72.8166, -75.0]\n",
    "longitude = [123.4, 106.8, -148.82, 159.1833, 0.07]\n",
    "\n",
    "# Create dataFrame\n",
    "antarctica = pd.DataFrame({\n",
    "    \"Site\": site,\n",
    "    \"Elevation masl\": elevation,\n",
    "    \"Lat\": latitude,\n",
    "    \"Lon\": longitude\n",
    "})"
   ]
  },
  {
   "cell_type": "code",
   "execution_count": null,
   "id": "814e6f98-0a54-4670-96cb-c26062cd8106",
   "metadata": {},
   "outputs": [],
   "source": []
  },
  {
   "cell_type": "markdown",
   "id": "ae05d030-3077-4ebd-9948-09d1ddd79a6c",
   "metadata": {},
   "source": [
    "## 3. Dynamic Selection\n",
    "\n",
    "Interactive plots allow users to select the data they wish to visualise using elements such as drop-down menus, sliders or buttons. This interactive approach provides flexibility, allowing different datasets or plot configurations to be displayed in response to user input."
   ]
  },
  {
   "cell_type": "markdown",
   "id": "1862d723-1464-406a-9f39-bdd027a10104",
   "metadata": {},
   "source": [
    "### **Example 6 [continued from B2]: Temperature anomalies**"
   ]
  },
  {
   "cell_type": "markdown",
   "id": "6ee130c2-83a8-4652-9909-eb230f4ece7b",
   "metadata": {},
   "source": [
    "In the example below, we can select from several regional datasets provided by NOAA to visualise temperature anomalies. The plot includes a drop-down menu for switching between regions, with accompanying bar graphs that update to show temperature anomalies over time for the selected region.\n",
    "\n",
    "We first define regions and their corresponding file paths to choose from in the interactive plot:"
   ]
  },
  {
   "cell_type": "code",
   "execution_count": null,
   "id": "2124cef7-51b9-4b4f-8b2d-478fbd1e6801",
   "metadata": {},
   "outputs": [],
   "source": [
    "regions = {\n",
    "    'Africa': '../Datasets/noaa_temperature_anomalies/Africa.csv',\n",
    "    'Antarctic': '../Datasets/noaa_temperature_anomalies/Antarctic.csv',\n",
    "    'Arctic': '../Datasets/noaa_temperature_anomalies/Arctic.csv',\n",
    "    'Asia': '../Datasets/noaa_temperature_anomalies/Asia.csv',\n",
    "    'Atlantic_MDR': '../Datasets/noaa_temperature_anomalies/Atlantic_MDR.csv',\n",
    "    'Caribbean_Islands': '../Datasets/noaa_temperature_anomalies/Caribbean_Islands.csv',\n",
    "    'East_N_Pacific': '../Datasets/noaa_temperature_anomalies/East_N_Pacific.csv',\n",
    "    'Europe': '../Datasets/noaa_temperature_anomalies/Europe.csv',\n",
    "    'Gulf_of_Mexico': '../Datasets/noaa_temperature_anomalies/Gulf_of_Mexico.csv',\n",
    "    'Hawaiian_Region': '../Datasets/noaa_temperature_anomalies/Hawaiian_Region.csv',\n",
    "    'North_America': '../Datasets/noaa_temperature_anomalies/North_America.csv',\n",
    "    'Oceania': '../Datasets/noaa_temperature_anomalies/Oceania.csv',\n",
    "    'South_America': '../Datasets/noaa_temperature_anomalies/South_America.csv'\n",
    "}"
   ]
  },
  {
   "cell_type": "markdown",
   "id": "9cba06ea-3d58-4ce5-9355-6979dfb58e01",
   "metadata": {},
   "source": [
    "We want to plot the annual means as in notebook B2."
   ]
  },
  {
   "cell_type": "code",
   "execution_count": null,
   "id": "ec3543a4-cef7-45d7-8076-007c7ccf2821",
   "metadata": {},
   "outputs": [],
   "source": [
    "# Create an empty DataFrame to hold all the annual means\n",
    "annual_means = pd.DataFrame()\n",
    "\n",
    "# Load each region's data and compute the annual mean anomalies\n",
    "for region, path in regions.items():\n",
    "    anomalies = pd.read_csv(path, skiprows=4)\n",
    "    \n",
    "    # Convert the 'Date' column to datetime format\n",
    "    anomalies['Date'] = pd.to_datetime(anomalies['Date'].astype(str), format='%Y%m')\n",
    "    anomalies['Year'] = anomalies['Date'].dt.year  # Extract the year\n",
    "\n",
    "    # Calculate annual mean anomalies\n",
    "    annual_mean = anomalies.groupby('Year')['Anomaly'].mean().reset_index()\n",
    "    annual_mean['Region'] = region  # Add the region name\n",
    "    \n",
    "    # Append to the main DataFrame\n",
    "    annual_means = pd.concat([annual_means, annual_mean], ignore_index=True)"
   ]
  },
  {
   "cell_type": "markdown",
   "id": "887324a7-22d1-460b-9d1c-0311bc3ce121",
   "metadata": {},
   "source": [
    "A loop iterates through each region defined in the `regions` dictionary. For each region, a subset of the data (`region_data`) is extracted from the `annual_means` DataFrame, which contains yearly temperature anomalies for different regions. `local_min` and `local_max` are calculated to normalize the color scale for the selected region. For each region, a bar trace is then added to the figure with `go.Bar()`. Each trace is initially set as invisible (`visible=False`), meaning it won’t display until selected through the dropdown menu. The `marker` dictionary specifies that the color of the bars will vary based on the anomaly values, using a red-blue diverging color scale (`colorscale='RdBu_r'`). The cmin and cmax ensure that colors are appropriately mapped based on the local minimum and maximum anomaly values.\n",
    "\n",
    "The first region's trace is set visible wen the figure is displayed.\n",
    "\n",
    "The dropdown functionality is implemented in the layout update with the `updatemenus` parameter. "
   ]
  },
  {
   "cell_type": "code",
   "execution_count": null,
   "id": "c754b5f2-97de-4a2c-9274-f3b202fbe507",
   "metadata": {},
   "outputs": [],
   "source": [
    "fig = go.Figure()\n",
    "\n",
    "# Add traces for each region\n",
    "for region in regions.keys():\n",
    "    region_data = annual_means[annual_means['Region'] == region]\n",
    "    local_min = region_data['Anomaly'].min()\n",
    "    local_max = region_data['Anomaly'].max()\n",
    "    \n",
    "    fig.add_trace(go.Bar(\n",
    "        x=region_data['Year'],\n",
    "        y=region_data['Anomaly'],\n",
    "        name=region,\n",
    "        visible=False,  # Initially set as not visible\n",
    "        marker=dict(\n",
    "            color=region_data['Anomaly'],\n",
    "            colorscale='RdBu_r',\n",
    "            cmin=local_min,\n",
    "            cmax=local_max,\n",
    "            colorbar=dict(title='Anomaly (°C)')\n",
    "        )\n",
    "    ))\n",
    "\n",
    "# Set the first region to be visible\n",
    "fig.data[0].visible = True\n",
    "\n",
    "# Update layout\n",
    "fig.update_layout(\n",
    "    title='Warming by Region',\n",
    "    xaxis_title='Year',\n",
    "    yaxis_title='Temperature Anomaly (°C)',\n",
    "    template='plotly_white',\n",
    "    title_x=0.5,\n",
    "    updatemenus=[{ # Here the dropdown menu to switch between regions is created\n",
    "        'buttons': [\n",
    "            {\n",
    "                'label': region,\n",
    "                'method': 'update',\n",
    "                'args': [{'visible': [region == r for r in regions.keys()]}],\n",
    "            } for region in regions.keys()\n",
    "        ],\n",
    "        'direction': 'down',\n",
    "        'showactive': True,\n",
    "    }],\n",
    ")\n",
    "\n",
    "# Show the plot\n",
    "fig.show()"
   ]
  },
  {
   "cell_type": "code",
   "execution_count": null,
   "id": "c5663784-35f6-4b9b-b52e-bd7e179011f8",
   "metadata": {},
   "outputs": [],
   "source": []
  }
 ],
 "metadata": {
  "kernelspec": {
   "display_name": "Python 3 (ipykernel)",
   "language": "python",
   "name": "python3"
  },
  "language_info": {
   "codemirror_mode": {
    "name": "ipython",
    "version": 3
   },
   "file_extension": ".py",
   "mimetype": "text/x-python",
   "name": "python",
   "nbconvert_exporter": "python",
   "pygments_lexer": "ipython3",
   "version": "3.11.10"
  }
 },
 "nbformat": 4,
 "nbformat_minor": 5
}
