{
 "cells": [
  {
   "cell_type": "markdown",
   "id": "48eca60f-5bb9-49b3-aebd-30cffd9d99cb",
   "metadata": {},
   "source": [
    "<img src=\"../Images/DSC_Logo.png\" style=\"width: 400px;\">"
   ]
  },
  {
   "cell_type": "markdown",
   "id": "541f387c-9f50-4373-9f5a-b2ef0a1c2089",
   "metadata": {},
   "source": [
    "# Python Libraries"
   ]
  },
  {
   "cell_type": "markdown",
   "id": "51385aad-fc62-4091-893f-8baabd76ee34",
   "metadata": {},
   "source": [
    "Python works with libraries, which are collections of pre-written code that provide useful functions and tools for various tasks. This notebooks contains a quickstart to two fundamental Python libraries for data analysis: NumPy (`numpy`) and Pandas (`pandas`)."
   ]
  },
  {
   "cell_type": "markdown",
   "id": "5e5ef15c-ea6c-41ae-879f-526dd3c86a9d",
   "metadata": {},
   "source": [
    "<img src=\"../Images/pandas_numpy.png\" style=\"width: 300px;\">"
   ]
  },
  {
   "cell_type": "markdown",
   "id": "d37414be-b75c-4703-98aa-b510e639d61e",
   "metadata": {},
   "source": [
    "Data analysis with `pandas` works with tabular data using **DataFrames** (similar to Excel spreadsheets or database tables. DataFrames have a 2-dimensional data structure and labeled axes (rows and columns). These are indexed for effiecient data retrieval."
   ]
  },
  {
   "cell_type": "markdown",
   "id": "a20fa712-e050-4f19-a4e3-32d28958849a",
   "metadata": {},
   "source": [
    "<img src=\"../Images/dataframe.png\" style=\"width: 300px;\">"
   ]
  },
  {
   "cell_type": "markdown",
   "id": "9f7f6262-5549-4f1c-b24f-571fada99214",
   "metadata": {},
   "source": [
    "`numpy` is the foundational library for numerical computing, supporting large and multi-dimensional **arrays** and vectorized operations. A data array is a structure for stroring elements of the same type. Arrays can be one-dimensional (like a list) or multi-dimensional (like a matrix)."
   ]
  },
  {
   "cell_type": "markdown",
   "id": "9333a3c6-ebf4-4d4c-aaa8-2ebf3b57add9",
   "metadata": {},
   "source": [
    "<img src=\"../Images/array.png\" style=\"width: 600px;\">"
   ]
  },
  {
   "cell_type": "markdown",
   "id": "1fe7475f-703b-4fde-8045-b43e5eefbd13",
   "metadata": {},
   "source": [
    "## 1. Predefined functions"
   ]
  },
  {
   "cell_type": "markdown",
   "id": "a493bdbb-cd8e-4ff6-a175-0030bddfae9c",
   "metadata": {},
   "source": [
    "Python packages have predefined functions for mathematical operations; Examples below:"
   ]
  },
  {
   "cell_type": "code",
   "execution_count": null,
   "id": "91cae2fb-0d77-4fc6-910f-4d82fed967f2",
   "metadata": {},
   "outputs": [],
   "source": [
    "import numpy as np\n",
    "import statistics as stat\n",
    "import math"
   ]
  },
  {
   "cell_type": "code",
   "execution_count": null,
   "id": "030483b8-52be-4700-8cec-22d1a9650a48",
   "metadata": {},
   "outputs": [],
   "source": [
    "x = [2.75, 1.75, 1.25, 0.25, 0.5, 1.25, 3.5]"
   ]
  },
  {
   "cell_type": "code",
   "execution_count": null,
   "id": "7b6b2f69-7a98-46c4-9519-dfafd5ef1861",
   "metadata": {},
   "outputs": [],
   "source": [
    "stat.mean(x)"
   ]
  },
  {
   "cell_type": "code",
   "execution_count": null,
   "id": "6c9b8849-b2a4-4936-aa01-a84fb408de8e",
   "metadata": {},
   "outputs": [],
   "source": [
    "np.mean(x)"
   ]
  },
  {
   "cell_type": "code",
   "execution_count": null,
   "id": "520f6feb-a893-49e7-aa0e-3617480ea019",
   "metadata": {},
   "outputs": [],
   "source": [
    "stat.median(x)"
   ]
  },
  {
   "cell_type": "code",
   "execution_count": null,
   "id": "4bb346e0-193a-4381-8b7f-dccaf0e32ae5",
   "metadata": {
    "scrolled": true
   },
   "outputs": [],
   "source": [
    "stat.variance(x)"
   ]
  },
  {
   "cell_type": "code",
   "execution_count": null,
   "id": "6dda74de-6710-4d4b-ba96-40638c254692",
   "metadata": {},
   "outputs": [],
   "source": [
    "math.exp(3.2)"
   ]
  },
  {
   "cell_type": "code",
   "execution_count": null,
   "id": "ad417208-bcba-4525-9143-308a2353f9da",
   "metadata": {},
   "outputs": [],
   "source": [
    "math.sqrt(3)"
   ]
  },
  {
   "cell_type": "code",
   "execution_count": null,
   "id": "925858c4-c9d8-4330-b394-de592af9edb5",
   "metadata": {},
   "outputs": [],
   "source": [
    "math.sin(2)"
   ]
  },
  {
   "cell_type": "markdown",
   "id": "882b2c97-e9f1-45e8-b1e9-1dca408fedaa",
   "metadata": {},
   "source": [
    "## 2. NumPy & Pandas - Temperature time series\n",
    "![sky](../Images/temperature.jpg)\n",
    "\n",
    "*Image modified from Gerd Altmann, Pixabay*\n",
    "\n",
    "**Original dataset:**\n",
    "\n",
    "NOAA National Centers for Environmental information: Climate at a Glance: Global Time Series [Data set]. https://www.ncei.noaa.gov/access/monitoring/climate-at-a-glance/global/time-series, retrieved on August 23, 2024."
   ]
  },
  {
   "cell_type": "markdown",
   "id": "5535d80d-0e32-486f-b397-76b2005fbbba",
   "metadata": {},
   "source": [
    "## 2.1 NumPy"
   ]
  },
  {
   "cell_type": "code",
   "execution_count": null,
   "id": "c8d6ca3c-b90e-4785-969d-2955e6535166",
   "metadata": {},
   "outputs": [],
   "source": [
    "import numpy as np "
   ]
  },
  {
   "cell_type": "markdown",
   "id": "8a90b669-1d6f-4f5e-92a0-1c55c2cfaec2",
   "metadata": {},
   "source": [
    "Import data as a 2D numpy array:"
   ]
  },
  {
   "cell_type": "code",
   "execution_count": null,
   "id": "ecc6780e-3a46-42dd-9a49-06eba2c66a49",
   "metadata": {},
   "outputs": [],
   "source": [
    "path = '../Datasets/NOAA_time_series.csv' # Relative path to dataset file\n",
    "time_series = np.loadtxt(path, skiprows=5, delimiter=',')\n",
    "print(time_series)"
   ]
  },
  {
   "cell_type": "markdown",
   "id": "a81adfac-0cea-4e53-86c4-9a6eef8d6440",
   "metadata": {},
   "source": [
    "Data selection: Selecting the last 30 years of data from the time series corresponds to selecting the last 30 elements of the time series."
   ]
  },
  {
   "cell_type": "code",
   "execution_count": null,
   "id": "8d376406-7484-4080-9c0e-b0c9b048301a",
   "metadata": {
    "scrolled": true
   },
   "outputs": [],
   "source": [
    "time_series[-30:, :]"
   ]
  },
  {
   "cell_type": "markdown",
   "id": "a34e111f-2074-468e-9eb5-4d28bc63b1cd",
   "metadata": {},
   "source": [
    "However, selecting elements from an array based on the values in a specific column is also possible using boolean indexing:"
   ]
  },
  {
   "cell_type": "code",
   "execution_count": null,
   "id": "89015e73-02c8-4380-8195-a5fae4ac6b1c",
   "metadata": {},
   "outputs": [],
   "source": [
    "mask = time_series[:, 0] > 1995\n",
    "print(mask)"
   ]
  },
  {
   "cell_type": "code",
   "execution_count": null,
   "id": "5cef423b-4130-4a4f-9d2a-e02699681118",
   "metadata": {},
   "outputs": [],
   "source": [
    "filtered_data = time_series[mask]\n",
    "print(filtered_data)"
   ]
  },
  {
   "cell_type": "markdown",
   "id": "8d40dd80-af29-425d-b6cb-e65d7320a0c5",
   "metadata": {},
   "source": [
    "Mathematical operations:"
   ]
  },
  {
   "cell_type": "code",
   "execution_count": null,
   "id": "d23cec63-9780-46f4-89cd-681adae633fc",
   "metadata": {},
   "outputs": [],
   "source": [
    "print(np.mean(time_series[:,1]))"
   ]
  },
  {
   "cell_type": "markdown",
   "id": "bae56520-b8be-4235-9c06-23a4c32f9dd7",
   "metadata": {},
   "source": [
    "**Exercise:** Convert temperature unit °C to Kelvin in the array. "
   ]
  },
  {
   "cell_type": "code",
   "execution_count": null,
   "id": "b4ae4a08-5e77-4add-8bc2-f8fa6a2781dd",
   "metadata": {},
   "outputs": [],
   "source": []
  },
  {
   "cell_type": "markdown",
   "id": "413a000e-f831-4001-a624-e996551052d6",
   "metadata": {},
   "source": [
    "Plot:"
   ]
  },
  {
   "cell_type": "code",
   "execution_count": null,
   "id": "b1c42b82-fb8d-4c16-a791-62f15f384e80",
   "metadata": {},
   "outputs": [],
   "source": [
    "import matplotlib.pyplot as plt"
   ]
  },
  {
   "cell_type": "code",
   "execution_count": null,
   "id": "b70a15a5-6eb8-4d29-a213-b64429d0c00a",
   "metadata": {},
   "outputs": [],
   "source": [
    "plt.figure()\n",
    "plt.plot(time_series[:, 0], time_series[:, 1])  # Plot Year vs. Anomaly\n",
    "plt.xlabel('Year')\n",
    "plt.ylabel('Anomaly (°C)')\n",
    "plt.show()"
   ]
  },
  {
   "cell_type": "markdown",
   "id": "4c110995-5beb-4325-a73d-07126cd192f9",
   "metadata": {},
   "source": [
    "## 2.2 Pandas"
   ]
  },
  {
   "cell_type": "code",
   "execution_count": null,
   "id": "7f20a8e6-72eb-42f9-a609-facdbea9bb11",
   "metadata": {},
   "outputs": [],
   "source": [
    "import pandas as pd"
   ]
  },
  {
   "cell_type": "markdown",
   "id": "98173cdc-54ba-44ff-bec9-e614d995fe6f",
   "metadata": {},
   "source": [
    "(Re)Import data in DataFrame:"
   ]
  },
  {
   "cell_type": "code",
   "execution_count": null,
   "id": "3aaec591-eb47-4adc-b81d-6b81fa6d7bd2",
   "metadata": {},
   "outputs": [],
   "source": [
    "path = '../Datasets/NOAA_time_series.csv' # Relative path to dataset file\n",
    "time_series = pd.read_csv(path, skiprows=4, delimiter=',')"
   ]
  },
  {
   "cell_type": "markdown",
   "id": "85b900b6-d8ec-4094-af8d-a9de290b5201",
   "metadata": {},
   "source": [
    "Investigate DataFrame structure:"
   ]
  },
  {
   "cell_type": "code",
   "execution_count": null,
   "id": "dff2c8a8-ae6c-40c1-bc6f-f3b2e5da824d",
   "metadata": {},
   "outputs": [],
   "source": [
    "print(time_series.head())"
   ]
  },
  {
   "cell_type": "code",
   "execution_count": null,
   "id": "c93b0632-39bb-42a8-8f51-42198254aeb5",
   "metadata": {},
   "outputs": [],
   "source": [
    "print(time_series.index)"
   ]
  },
  {
   "cell_type": "code",
   "execution_count": null,
   "id": "2eba1924-7180-49ae-aeef-fe031c6b6b54",
   "metadata": {},
   "outputs": [],
   "source": [
    "print(time_series.columns)"
   ]
  },
  {
   "cell_type": "code",
   "execution_count": null,
   "id": "177bfcae-417d-41b1-bda1-0a414cfc7d2f",
   "metadata": {},
   "outputs": [],
   "source": [
    "print(time_series.dtypes)"
   ]
  },
  {
   "cell_type": "markdown",
   "id": "b3eb11ed-12ab-40b3-85f7-dd44d674bc87",
   "metadata": {},
   "source": [
    "Data selection:"
   ]
  },
  {
   "cell_type": "code",
   "execution_count": null,
   "id": "d126f7f3-9871-42f0-942b-cf5f4988491a",
   "metadata": {},
   "outputs": [],
   "source": [
    "print(time_series.loc[0:4,:])"
   ]
  },
  {
   "cell_type": "code",
   "execution_count": null,
   "id": "5aecab58-a26e-4f72-8284-54e4f6d56ed4",
   "metadata": {
    "scrolled": true
   },
   "outputs": [],
   "source": [
    "time_series_selection = time_series.loc[time_series['Year'] >= 1994,:]\n",
    "print(time_series_selection)"
   ]
  },
  {
   "cell_type": "markdown",
   "id": "8c64d190-6075-4751-ae03-2160bde8a3db",
   "metadata": {},
   "source": [
    "Reset index:"
   ]
  },
  {
   "cell_type": "code",
   "execution_count": null,
   "id": "28cec290-3b3f-4733-afd2-9c01bb4f0ef7",
   "metadata": {},
   "outputs": [],
   "source": [
    "time_series_selection.reset_index(drop=True, inplace=True)\n",
    "print(time_series_selection)"
   ]
  },
  {
   "cell_type": "markdown",
   "id": "7c07f225-64be-4c16-9be1-e67944541b4e",
   "metadata": {},
   "source": [
    "Mathematical operations:"
   ]
  },
  {
   "cell_type": "code",
   "execution_count": null,
   "id": "1b37ad33-197f-4c04-bc66-45f0ae5c8ba6",
   "metadata": {},
   "outputs": [],
   "source": [
    "print(time_series.describe())"
   ]
  },
  {
   "cell_type": "code",
   "execution_count": null,
   "id": "1e8c87c1-7044-4abd-9096-7c40c7a38c0c",
   "metadata": {},
   "outputs": [],
   "source": [
    "time_series['Anomaly'] = time_series['Anomaly'] + 273.15 # convert temperature unit °C to Kelvin\n",
    "print(time_series.head())"
   ]
  },
  {
   "cell_type": "markdown",
   "id": "9d00cf6e-3c1d-4f9f-9bf2-c2f994e8957e",
   "metadata": {},
   "source": [
    "## 3. Pandas - Iris dataset\n",
    "![Iris](../Images/Iris.png)\n",
    "\n",
    "*Image modified from Steve Dorand, Pixabay*\n",
    "\n",
    "**Original dataset:** https://www.kaggle.com/datasets/uciml/iris/data"
   ]
  },
  {
   "cell_type": "code",
   "execution_count": null,
   "id": "d2316f23",
   "metadata": {},
   "outputs": [],
   "source": [
    "import pandas as pd"
   ]
  },
  {
   "cell_type": "markdown",
   "id": "d2b1e336",
   "metadata": {},
   "source": [
    "Import data in DataFrame:"
   ]
  },
  {
   "cell_type": "code",
   "execution_count": null,
   "id": "9e16e723",
   "metadata": {},
   "outputs": [],
   "source": [
    "path = '../Datasets/Iris.csv' # relative path to dataset file\n",
    "iris = pd.read_csv(path)"
   ]
  },
  {
   "cell_type": "markdown",
   "id": "20196618",
   "metadata": {},
   "source": [
    "Investigate DataFrame structure and data:"
   ]
  },
  {
   "cell_type": "code",
   "execution_count": null,
   "id": "87711360",
   "metadata": {},
   "outputs": [],
   "source": [
    "print(iris.head())\n",
    "print(iris.index)\n",
    "print(iris.columns)\n",
    "print(iris.dtypes)\n",
    "print(iris.describe())"
   ]
  },
  {
   "cell_type": "markdown",
   "id": "e20617db",
   "metadata": {},
   "source": [
    "Data selection:"
   ]
  },
  {
   "cell_type": "code",
   "execution_count": null,
   "id": "6ea2f98e",
   "metadata": {},
   "outputs": [],
   "source": [
    "print(iris.loc[0:4,:])"
   ]
  },
  {
   "cell_type": "code",
   "execution_count": null,
   "id": "2757eb19",
   "metadata": {
    "scrolled": true
   },
   "outputs": [],
   "source": [
    "print(iris.loc[iris['Species'] == 'Iris-versicolor'])"
   ]
  },
  {
   "cell_type": "markdown",
   "id": "3b3f3c4a",
   "metadata": {},
   "source": [
    "Data in Pandas DataFrame vs. NumPy array:"
   ]
  },
  {
   "cell_type": "code",
   "execution_count": null,
   "id": "7475e8f8",
   "metadata": {
    "scrolled": true
   },
   "outputs": [],
   "source": [
    "array = iris.values\n",
    "print(array)"
   ]
  },
  {
   "cell_type": "markdown",
   "id": "ecd48a44",
   "metadata": {},
   "source": [
    "Sort & reset index:"
   ]
  },
  {
   "cell_type": "code",
   "execution_count": null,
   "id": "11fa096a",
   "metadata": {},
   "outputs": [],
   "source": [
    "sorted_iris = iris.sort_values(by='PetalLengthCm', ascending=False)\n",
    "print(sorted_iris.head(5))"
   ]
  },
  {
   "cell_type": "code",
   "execution_count": null,
   "id": "1a4cea73-47eb-48d3-bb26-b1111e6902e8",
   "metadata": {},
   "outputs": [],
   "source": [
    "sorted_iris.reset_index(drop=True, inplace=True)\n",
    "print(sorted_iris.head(5))"
   ]
  },
  {
   "cell_type": "markdown",
   "id": "e5450062",
   "metadata": {},
   "source": [
    "Histogram plot showing the value distribution of petal length:"
   ]
  },
  {
   "cell_type": "code",
   "execution_count": null,
   "id": "42a3d75c",
   "metadata": {},
   "outputs": [],
   "source": [
    "iris['PetalLengthCm'].plot.hist()"
   ]
  },
  {
   "cell_type": "markdown",
   "id": "a770297d",
   "metadata": {},
   "source": [
    "**Exercise:** Calculate the area of the Petals via multiplication (no need for precise ellipse area) in a new column and print the first rows of the DataFrame."
   ]
  },
  {
   "cell_type": "code",
   "execution_count": null,
   "id": "e87bbde3",
   "metadata": {},
   "outputs": [],
   "source": []
  }
 ],
 "metadata": {
  "kernelspec": {
   "display_name": "Python 3 (ipykernel)",
   "language": "python",
   "name": "python3"
  },
  "language_info": {
   "codemirror_mode": {
    "name": "ipython",
    "version": 3
   },
   "file_extension": ".py",
   "mimetype": "text/x-python",
   "name": "python",
   "nbconvert_exporter": "python",
   "pygments_lexer": "ipython3",
   "version": "3.11.10"
  }
 },
 "nbformat": 4,
 "nbformat_minor": 5
}
