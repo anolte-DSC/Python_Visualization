{
 "cells": [
  {
   "cell_type": "markdown",
   "id": "14aa93ba-c269-40cc-a42a-bccab1fbd126",
   "metadata": {},
   "source": [
    "<img src=\"../Images/DSC_Logo.png\" style=\"width: 400px;\">"
   ]
  },
  {
   "cell_type": "markdown",
   "id": "920084db-3f3f-496c-a22c-ceba3d72688e",
   "metadata": {},
   "source": [
    "# Geospatial Data on Maps\n",
    "\n",
    "Geospatial data refers to information linked to geographic locations, often represented as coordinates or maps, which is essential for analyzing spatial patterns and relationships. In Python, several libraries are available for visualizing geospatial data; in this notebook, we primarily use Matplotlib and Cartopy for plotting. The library rasterio is used to handle raster data."
   ]
  },
  {
   "cell_type": "code",
   "execution_count": null,
   "id": "a26a3e2a-5493-4f51-89e7-f4fe94fc7cf8",
   "metadata": {},
   "outputs": [],
   "source": [
    "import numpy as np\n",
    "import pandas as pd\n",
    "import matplotlib.pyplot as plt\n",
    "import cartopy.crs as ccrs"
   ]
  },
  {
   "cell_type": "markdown",
   "id": "45ed8841-e1fa-4aa1-ab86-19835b3fbcd9",
   "metadata": {},
   "source": [
    "### **Example 1 [continued from B2]: Antarctic CO2 concentrations**"
   ]
  },
  {
   "cell_type": "markdown",
   "id": "30c88fbe-52e9-48f4-84f3-e3fa106d26bf",
   "metadata": {},
   "source": [
    "Let's visualize the geographic distribution of the key Antarctic ice core stations that have contributed to the reconstruction of atmospheric carbon dioxide (CO2) levels over the past 800,000 years. The geographic information is extracted from the metadata of the dataset (copy saved as \"metadata_jason.txt\")."
   ]
  },
  {
   "cell_type": "code",
   "execution_count": null,
   "id": "7574069f-d131-43fd-b012-d46b6cdd4fad",
   "metadata": {},
   "outputs": [],
   "source": [
    "# Site data from metadata \n",
    "site = [\"Dome C\", \"Vostok\", \"Siple Dome\", \"TALDICE\", \"EDML\"]\n",
    "elevation = [3233, 3488, 621, 2315, 2892]\n",
    "latitude = [-75.1, -78.47, -81.65, -72.8166, -75.0]\n",
    "longitude = [123.4, 106.8, -148.82, 159.1833, 0.07]\n",
    "\n",
    "# Create dataFrame\n",
    "antarctica = pd.DataFrame({\n",
    "    \"Site\": site,\n",
    "    \"Elevation masl\": elevation,\n",
    "    \"Lat\": latitude,\n",
    "    \"Lon\": longitude\n",
    "})\n",
    "\n",
    "# Display the DataFrame\n",
    "print(antarctica)"
   ]
  },
  {
   "cell_type": "markdown",
   "id": "11c90d87-a0c4-45f2-b635-611a47edcaca",
   "metadata": {},
   "source": [
    "When we create the axes with `subplot_kw={}`, that tells Matplotlib which projection to use for the entire plot. This means that the coordinate system within the plot will be based on this projection. The Plate Carrée coordinate system represents data on a flat map. Here, the Antarctic region looks much larger than it actually is compared to its size on a globe."
   ]
  },
  {
   "cell_type": "code",
   "execution_count": null,
   "id": "61d02fb2-af74-4acb-afc8-6e46b1525ebe",
   "metadata": {},
   "outputs": [],
   "source": [
    "# Plot setup\n",
    "fig, ax = plt.subplots(figsize=(10, 8), subplot_kw={'projection': ccrs.PlateCarree()})\n",
    "ax.coastlines(resolution='50m', color='blue')\n",
    "ax.gridlines(draw_labels=False, linestyle='--', color='gray', alpha=0.5)\n",
    "\n",
    "# Plot points\n",
    "ax.scatter(antarctica['Lon'], antarctica['Lat'],\n",
    "           color='red', \n",
    "           s=100,\n",
    "           transform=ccrs.PlateCarree())\n",
    "\n",
    "# Add labels slightly offset\n",
    "for _, row in antarctica.iterrows():\n",
    "    ax.text(row['Lon'], row['Lat'] - 1, row['Site'], fontsize=14, ha='center', color='black', transform=ccrs.PlateCarree())\n",
    "\n",
    "# Extent\n",
    "ax.set_extent([-180, 180, -90, -60], crs=ccrs.PlateCarree()) # Longitude (westmost point), Longitude (eastmost point), Latitude (southmost point), Latitude (northmost point)\n",
    "\n",
    "# Add title\n",
    "ax.set_title('Antarctica Stations', fontsize=15)\n",
    "\n",
    "# Show plot\n",
    "plt.show()"
   ]
  },
  {
   "cell_type": "markdown",
   "id": "a5191691-5552-4a6a-81b5-2e530adde480",
   "metadata": {},
   "source": [
    "The `SouthPolarStereo` projection is a specific type of map projection designed to represent areas in the Southern Hemisphere, particularly Antarctica. Data points are in the Plate Carrée coordinate system. Cartopy handles the conversion from Plate Carrée coordinates to the South Polar Stereographic projection. We set the extent of the plot in the original Plate Carrée coordinate system. Remember that Antarctica covers all longitudes when investigating the extent."
   ]
  },
  {
   "cell_type": "code",
   "execution_count": null,
   "id": "8fc5d3f6-6983-45f5-952a-2e561d6658ea",
   "metadata": {},
   "outputs": [],
   "source": [
    "# Plot setup\n",
    "fig, ax = plt.subplots(figsize=(10, 8), subplot_kw={'projection': ccrs.SouthPolarStereo()})\n",
    "ax.coastlines(resolution='50m', color='blue')\n",
    "ax.gridlines(draw_labels=False, linestyle='--', color='gray', alpha=0.5)\n",
    "\n",
    "# Plot points\n",
    "ax.scatter(antarctica['Lon'], antarctica['Lat'],\n",
    "           color='red',\n",
    "           s=100,\n",
    "           transform=ccrs.PlateCarree())\n",
    "\n",
    "# Add labels slightly offset\n",
    "for _, row in antarctica.iterrows():\n",
    "    ax.text(row['Lon'], row['Lat'] - 1, row['Site'], fontsize=14, ha='center', color='black', transform=ccrs.PlateCarree())\n",
    "\n",
    "# Extent\n",
    "ax.set_extent([-180, 180, -90, -60], crs=ccrs.PlateCarree()) # Longitude (westmost point), Longitude (eastmost point), Latitude (southmost point), Latitude (northmost point)\n",
    "\n",
    "# Add title\n",
    "ax.set_title('Antarctica Stations', fontsize=15)\n",
    "\n",
    "# Show plot\n",
    "plt.show()"
   ]
  },
  {
   "cell_type": "markdown",
   "id": "ae9aebac-1e17-4a7a-a2c5-07845b5b1305",
   "metadata": {},
   "source": [
    "### **Example 2: POLARSTERN cruise PS141 master track**\n",
    "\n",
    "The PS141 expedition from February 6 to April 14, 2024, studied changes in the East Antarctic Ice Sheet (EAIS) and its impact on global sea levels and climate. Researchers collected geological and geophysical data from the continental shelf between 85°E and 115°E through marine and land investigations. Data from GPS and navigation systems on the RV Polarstern were used to create a master track for reference of investigations. The dataset contains the master track in 10 min resolution. The related [Polarstern expedition website](https://follow-polarstern.awi.de/expedition/antarktis-2023-24/) uses master tracks to visualize navigation routes and data collection points.\n",
    "\n",
    "**Original dataset:**\n",
    "Krastel, Sebastian (2024): Master tracks in different resolutions of POLARSTERN cruise PS141, Hobart - Walvis Bay, 2024-02-06 - 2024-04-14 [dataset]. Alfred Wegener Institute, Helmholtz Centre for Polar and Marine Research, Bremerhaven, PANGAEA, https://doi.org/10.1594/PANGAEA.969140             "
   ]
  },
  {
   "cell_type": "code",
   "execution_count": null,
   "id": "bf62d476-541c-4fe7-ad1d-143bf9e1d492",
   "metadata": {},
   "outputs": [],
   "source": [
    "# Load dataset\n",
    "path = '../Datasets/PS141_mastertrack.tab' \n",
    "track = pd.read_csv(path, \n",
    "                    skiprows=21,\n",
    "                    sep=\"\\t\")\n",
    "\n",
    "# Display the DataFrame (optional)\n",
    "print(track.head())"
   ]
  },
  {
   "cell_type": "markdown",
   "id": "b6ead4d6-d15a-4843-8c09-004cc5002ccd",
   "metadata": {},
   "source": [
    "**Exercise:** Plot the track of the Polarstern expedition on a map of Antarctica. Ensure that the plot includes both the entire extent of Antarctica and the route of the expedition, represented by a red line. Check the coordinates of the expedition track to determine an appropriate extent that encompasses both the Antarctic region and the track itself. Save the figure to the folder \"Figures\" after layout adjustements."
   ]
  },
  {
   "cell_type": "code",
   "execution_count": null,
   "id": "abd35122-30d7-45f5-a9c4-8041325cf1da",
   "metadata": {},
   "outputs": [],
   "source": []
  },
  {
   "cell_type": "code",
   "execution_count": null,
   "id": "a4f59f97-e839-42b1-9c39-34f6607cdf8d",
   "metadata": {},
   "outputs": [],
   "source": []
  },
  {
   "cell_type": "markdown",
   "id": "8e4f40a6-869b-41df-8a4a-7067f9a584a2",
   "metadata": {},
   "source": [
    "### **Example 3 [continued from B2]: Köppen-Geiger maps for 1901–2099**"
   ]
  },
  {
   "cell_type": "markdown",
   "id": "5fd8a689-bbeb-41a5-8471-4ebcaf56617c",
   "metadata": {},
   "source": [
    "Raster data consists of grid-based datasets made up of pixels, where each pixel represents a specific value or category. In the case of the Köppen-Geiger climate zones, raster data visually represents the distribution of different climate classifications across geographical areas, allowing for detailed spatial and spatio-temporal analysis of climate patterns."
   ]
  },
  {
   "cell_type": "code",
   "execution_count": null,
   "id": "e9cde7bb-8f2b-4cd1-9cee-2decd66236fd",
   "metadata": {},
   "outputs": [],
   "source": [
    "import rasterio\n",
    "import cartopy.feature as cfeature"
   ]
  },
  {
   "cell_type": "markdown",
   "id": "15c9de85-9cad-466c-93f7-84e3261c7d5a",
   "metadata": {},
   "source": [
    "The Köppen-Geiger classification uses complex color definitions for it's visualization. These were downloaded from [the Github repository containing the code for the paper](https://github.com/hylken/Koppen-Geiger_maps)."
   ]
  },
  {
   "cell_type": "code",
   "execution_count": null,
   "id": "d897f32c-907a-48ec-853d-0309c206a924",
   "metadata": {},
   "outputs": [],
   "source": [
    "file_path = '../Datasets/koppen_geiger/koppen_table.csv'\n",
    "colors = pd.read_csv(file_path)\n",
    "print(colors.head())\n",
    "print(colors.columns)"
   ]
  },
  {
   "cell_type": "markdown",
   "id": "ab91daeb-633c-4eb0-8e97-027992333d40",
   "metadata": {},
   "source": [
    "Multiple options exist to use these colors in the plot. We directly take RGB values from the DataFrame and create a custom colormap using `matplotlib`."
   ]
  },
  {
   "cell_type": "code",
   "execution_count": null,
   "id": "0ba42b19-bb00-4d95-8aa1-c2ae943cdda9",
   "metadata": {},
   "outputs": [],
   "source": [
    "koppen_colors = [(row['Red']/255, row['Green']/255, row['Blue']/255) for idx, row in colors.iterrows()]\n",
    "koppen_cmap = plt.cm.colors.ListedColormap(koppen_colors)"
   ]
  },
  {
   "cell_type": "markdown",
   "id": "d3d4090d-bb19-47a1-b187-2a4b1ed9c209",
   "metadata": {},
   "source": [
    "Let's load the data for the 2071 to 2099 projection with rasterio. "
   ]
  },
  {
   "cell_type": "code",
   "execution_count": null,
   "id": "fbc35c64-61d9-4cd9-810b-5a01ecd915c6",
   "metadata": {},
   "outputs": [],
   "source": [
    "file_path = '../Datasets/koppen_geiger/koppen_geiger_1p0_2071_2099_ssp245.tif'\n",
    "with rasterio.open(file_path) as src:\n",
    "    data = src.read(1)  # Read the first band\n",
    "    transform = src.transform  # Get the transformation information"
   ]
  },
  {
   "cell_type": "markdown",
   "id": "92387263-40b6-4e43-99a3-7f151aa591ff",
   "metadata": {},
   "source": [
    "Next, we mask the zero values in the dataset to be not plotted. "
   ]
  },
  {
   "cell_type": "code",
   "execution_count": null,
   "id": "de91e3a2-848c-40f7-89aa-3fbb75845b75",
   "metadata": {
    "scrolled": true
   },
   "outputs": [],
   "source": [
    "# Mask the zeros in the data\n",
    "masked_data = np.ma.masked_equal(data, 0)\n",
    "\n",
    "# Set the color for masked data\n",
    "koppen_cmap.set_bad(color='white')  # Set the color for masked values (transparent)"
   ]
  },
  {
   "cell_type": "markdown",
   "id": "ba72db71-a21b-4d9e-8bbd-32da84fe4330",
   "metadata": {},
   "source": [
    "The extent definition is essential for accurately placing and displaying the raster data within a geographical context."
   ]
  },
  {
   "cell_type": "code",
   "execution_count": null,
   "id": "696d48f9-540a-4e31-8396-fdd698d89b9b",
   "metadata": {},
   "outputs": [],
   "source": [
    "# Calculate extent from the transform\n",
    "# Get the width and height of the raster\n",
    "width = data.shape[1]\n",
    "height = data.shape[0]\n",
    "\n",
    "# Calculate the extents\n",
    "min_lon, min_lat = transform * (0, height)  # bottom-left corner\n",
    "max_lon, max_lat = transform * (width, 0)  # top-right corner\n",
    "\n",
    "# Create extent\n",
    "extent = [min_lon, max_lon, min_lat, max_lat]"
   ]
  },
  {
   "cell_type": "markdown",
   "id": "86142f50-c4cd-4a90-9c4e-32cadb35a14c",
   "metadata": {},
   "source": [
    "Let's plot the climate classes on the global map!"
   ]
  },
  {
   "cell_type": "code",
   "execution_count": null,
   "id": "7b8a03bb-243c-4743-949a-cd659a847a09",
   "metadata": {},
   "outputs": [],
   "source": [
    "# Plot setup\n",
    "fig, ax = plt.subplots(figsize=(12, 8), subplot_kw={'projection': ccrs.PlateCarree()})\n",
    "\n",
    "# Add geographic features for context\n",
    "ax.add_feature(cfeature.COASTLINE)\n",
    "ax.add_feature(cfeature.BORDERS)\n",
    "ax.gridlines(draw_labels=True)\n",
    "\n",
    "# Plot the data\n",
    "img = ax.imshow(masked_data, origin='upper', extent=extent, cmap=koppen_cmap, \n",
    "                transform=ccrs.PlateCarree(), vmin=1, vmax=30)\n",
    "\n",
    "# Add a color bar\n",
    "cbar = plt.colorbar(img, ax=ax, orientation='vertical', ticks=range(1, 31))\n",
    "cbar.set_label('Köppen Climate Classifications')\n",
    "cbar.ax.set_yticklabels(colors['Symbol'])  # Use Major Symbol for labels\n",
    "\n",
    "# Set title\n",
    "plt.title('Köppen-Geiger Climate Classifications (2071-2099)')\n",
    "plt.show()"
   ]
  },
  {
   "cell_type": "markdown",
   "id": "c821f63d-58d9-4863-94da-6fc5e12d036f",
   "metadata": {},
   "source": [
    "**Exercise:** How can we restrict the extent of the plot to focus on Europe?"
   ]
  },
  {
   "cell_type": "code",
   "execution_count": null,
   "id": "f3b6d176-1b72-440c-a1dc-fdb6f323cc55",
   "metadata": {},
   "outputs": [],
   "source": []
  },
  {
   "cell_type": "markdown",
   "id": "5b30b04c-6032-46dd-8498-a4256e765c98",
   "metadata": {},
   "source": [
    "### **Example 4: ERA5 climate reanalyis**\n",
    "\n",
    "Global climate data, such as ERA5, is commonly stored in NetCDF (Network Common Data Form) format, which is widely used for multidimensional data due to its support for flexible data structures, efficient data access, and standardized metadata. In Python, `xarray` is essential for managing and analyzing this multidimensional dataset effectively. Here, we load and plot a small snippet of data from the ERA5 reanalysis with precipitation and temperature data over Germany for the year 2023."
   ]
  },
  {
   "cell_type": "markdown",
   "id": "3850895f-322b-4ba7-8af9-03cbc1fc2c34",
   "metadata": {},
   "source": [
    "If not unpacked already, the .7z file must be unpacked (use py7zr library)."
   ]
  },
  {
   "cell_type": "code",
   "execution_count": null,
   "id": "b3788215-4560-494d-839c-244763ae445c",
   "metadata": {},
   "outputs": [],
   "source": [
    "import py7zr\n",
    "with py7zr.SevenZipFile('../Datasets/ERA5_snippet.7z', mode='r', password='secret') as archive:\n",
    "    archive.extractall(path='../Datasets/')"
   ]
  },
  {
   "cell_type": "code",
   "execution_count": null,
   "id": "69035f43-0833-492f-82a0-6e51083b5d79",
   "metadata": {},
   "outputs": [],
   "source": [
    "import xarray as xr\n",
    "ERA5 = xr.open_dataset('../Datasets/ERA5_snippet.nc')"
   ]
  },
  {
   "cell_type": "code",
   "execution_count": null,
   "id": "ed3cc9f5-2dce-4c8d-ab77-3c1269721f9d",
   "metadata": {},
   "outputs": [],
   "source": [
    "print(ERA5)"
   ]
  },
  {
   "cell_type": "code",
   "execution_count": null,
   "id": "9efa9ec7-bf22-4d46-aca8-1f87636b8a13",
   "metadata": {},
   "outputs": [],
   "source": [
    "print(ERA5['tp'])"
   ]
  },
  {
   "cell_type": "code",
   "execution_count": null,
   "id": "c744a147-95a9-4bf8-b808-0d069e2032a6",
   "metadata": {},
   "outputs": [],
   "source": [
    "print(ERA5['t2m'])"
   ]
  },
  {
   "cell_type": "markdown",
   "id": "3403e447-1c27-4519-ada6-99ef6789c4a7",
   "metadata": {},
   "source": [
    "We first edit the data: convert temperature unit and resample the time series to daily means."
   ]
  },
  {
   "cell_type": "code",
   "execution_count": null,
   "id": "64e3989f-58d5-4e17-9739-6ad891d03573",
   "metadata": {},
   "outputs": [],
   "source": [
    "# convert K to °C\n",
    "ERA5['t2m'] = ERA5['t2m'] - 273.15 \n",
    "\n",
    "# Resample to daily means:\n",
    "ERA5 = ERA5.resample(time='1D').mean()"
   ]
  },
  {
   "cell_type": "markdown",
   "id": "3e171215-0e5e-49d3-b026-a9e696555079",
   "metadata": {},
   "source": [
    "Select a specific date to plot on map."
   ]
  },
  {
   "cell_type": "code",
   "execution_count": null,
   "id": "bafe5e46-4e92-4caf-8d1c-31b50dd192f7",
   "metadata": {},
   "outputs": [],
   "source": [
    "# select a specific date:\n",
    "print(ERA5['t2m'][0,:,:]) # select by index\n",
    "# or \n",
    "print(ERA5['t2m'].sel(time='2023-01-01')) # select by time component"
   ]
  },
  {
   "cell_type": "markdown",
   "id": "a32e8c7f-9ba5-4c0f-a17c-52455d09c8ba",
   "metadata": {},
   "source": [
    "Then, let's plot the data using matplotlib without any further customizations:"
   ]
  },
  {
   "cell_type": "code",
   "execution_count": null,
   "id": "f3f68d4e-fd7d-4a26-a9db-ab44e810d594",
   "metadata": {},
   "outputs": [],
   "source": [
    "plt.figure()\n",
    "ERA5['t2m'][0,:,:].plot(cmap='viridis')\n",
    "plt.show()"
   ]
  },
  {
   "cell_type": "markdown",
   "id": "52da5c03-5cd0-45b4-9ed8-dbfc7e82fd04",
   "metadata": {},
   "source": [
    "Plot with cartopy & matplotlib:"
   ]
  },
  {
   "cell_type": "code",
   "execution_count": null,
   "id": "53c898dc-c3e3-45fe-8980-23c567ab0894",
   "metadata": {},
   "outputs": [],
   "source": [
    "# Define figure\n",
    "plt.figure()\n",
    "ax = plt.axes(projection=ccrs.PlateCarree())\n",
    "\n",
    "# Plot data\n",
    "ERA5['t2m'][0, :, :].plot(ax=ax, cmap='viridis', \n",
    "                          cbar_kwargs={'label': 'Temperature [°C]', 'pad': 0.15})  # Adjust pad for spacing (to avoid overlap)\n",
    "\n",
    "# Add coastlines and grid lines from cartopy\n",
    "ax.coastlines()\n",
    "ax.gridlines(draw_labels=True)\n",
    "\n",
    "# Add title\n",
    "plt.title('2-Meter Temperature [°C] on 2023-01-01 over Germany')\n",
    "\n",
    "plt.show()"
   ]
  },
  {
   "cell_type": "markdown",
   "id": "044f6ab0-d6e3-47b7-8729-c6f5b962bba7",
   "metadata": {},
   "source": [
    "**Exercise:** Provide a map that shows precipitation over Germany (same or different day) and save the figure to the folder \"Figures\" after layout adjustements."
   ]
  },
  {
   "cell_type": "code",
   "execution_count": null,
   "id": "a026af3f-dfc0-47d4-b413-fa1e3a3c52c0",
   "metadata": {},
   "outputs": [],
   "source": []
  }
 ],
 "metadata": {
  "kernelspec": {
   "display_name": "Python 3 (ipykernel)",
   "language": "python",
   "name": "python3"
  },
  "language_info": {
   "codemirror_mode": {
    "name": "ipython",
    "version": 3
   },
   "file_extension": ".py",
   "mimetype": "text/x-python",
   "name": "python",
   "nbconvert_exporter": "python",
   "pygments_lexer": "ipython3",
   "version": "3.11.10"
  }
 },
 "nbformat": 4,
 "nbformat_minor": 5
}
