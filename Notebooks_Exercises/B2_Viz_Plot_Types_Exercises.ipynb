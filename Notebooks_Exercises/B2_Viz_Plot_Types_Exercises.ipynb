{
 "cells": [
  {
   "cell_type": "markdown",
   "id": "cdc3d36f",
   "metadata": {},
   "source": [
    "<img src=\"../Images/DSC_Logo.png\" style=\"width: 400px;\">"
   ]
  },
  {
   "cell_type": "markdown",
   "id": "2412131a",
   "metadata": {},
   "source": [
    "# Plot Types Using Matplotlib & Seaborn\n",
    "\n",
    "This notebook explores various plotting techniques using Matplotlib and Seaborn to visualize relationships within data, analyze distributions, and enhance comparisons through innovative graphical representations."
   ]
  },
  {
   "cell_type": "code",
   "execution_count": null,
   "id": "8a2010ec",
   "metadata": {},
   "outputs": [],
   "source": [
    "import numpy as np\n",
    "import pandas as pd\n",
    "import matplotlib.pyplot as plt\n",
    "import seaborn as sns"
   ]
  },
  {
   "cell_type": "markdown",
   "id": "f7a83503-c08c-46f8-bfd6-a97498409ea8",
   "metadata": {},
   "source": [
    "## 1. Pairwise Data"
   ]
  },
  {
   "cell_type": "markdown",
   "id": "1aa8c956-f555-4b29-8e66-86b6a6cb5946",
   "metadata": {},
   "source": [
    "## 1.1 Line Plot: Time Series "
   ]
  },
  {
   "cell_type": "markdown",
   "id": "ed859e0c-8bd1-4dc4-8dc4-aae7844f2a16",
   "metadata": {},
   "source": [
    "### **Example 1: Antarctic CO2 concentrations**\n",
    "\n",
    "The time series in the [\"Antarctic Ice Cores Revised 800KYr CO2 Data\" dataset](https://www.ncei.noaa.gov/access/paleo-search/study/17975) represents the concentrations of atmospheric carbon dioxide (CO2) as reconstructed from ice cores extracted from various sites in Antarctica, spanning a period of 800,000 years before present (BP).\n",
    "\n",
    "Columns in the dataset:\n",
    "- age_gas_calBP: The age of the gas sample, expressed in calendar years before present (BP), where \"present\" is defined as the year 1950 AD.\n",
    "- co2_ppm: The concentration of carbon dioxide measured in parts per million (ppm) from the ice core sample.\n",
    "- co2_1s_ppm: The one standard deviation of the CO2 measurement in parts per million (ppm), indicating the uncertainty or variability associated with the CO2 concentration value.\n",
    "\n",
    "**Original dataset:**\n",
    "Bereiter, B., S. Eggleston, J. Schmitt, C. Nehrbass-Ahles, T. F. Stocker, H. Fischer, S. Kipfstuhl, J. Chappellaz. 2015. Revision of the EPICA Dome C CO2 record from 800 to 600 kyr before present. Geophysical Research Letters, 42(2), 542-549. doi: 10.1002/2014GL061957                    "
   ]
  },
  {
   "cell_type": "code",
   "execution_count": null,
   "id": "ba182b54-83fa-4b7e-9fa1-98c8f8203fae",
   "metadata": {},
   "outputs": [],
   "source": [
    "# Load dataset\n",
    "path = '../Datasets/antarctica/antarctica2015co2composite-noaa.txt' \n",
    "co2_antarctica = pd.read_csv(path, \n",
    "                 skiprows=142,\n",
    "                 sep=\"\\t\")"
   ]
  },
  {
   "cell_type": "code",
   "execution_count": null,
   "id": "ea80cfcd-087a-4dfd-b207-a816ec279c94",
   "metadata": {},
   "outputs": [],
   "source": [
    "print(co2_antarctica.head())"
   ]
  },
  {
   "cell_type": "code",
   "execution_count": null,
   "id": "ce1e577e-e4fd-45ab-bde7-3de0cccedc60",
   "metadata": {},
   "outputs": [],
   "source": [
    "print(co2_antarctica.tail())"
   ]
  },
  {
   "cell_type": "code",
   "execution_count": null,
   "id": "ccb4fdfc-4f88-4fb7-9c22-04b1aa730f1f",
   "metadata": {},
   "outputs": [],
   "source": [
    "# Create a new figure for the plot\n",
    "plt.figure(figsize=(10, 6))\n",
    "\n",
    "# Plot CO2 concentrations over time with markers\n",
    "plt.plot(co2_antarctica['age_gas_calBP'], co2_antarctica['co2_ppm'],\n",
    "         marker='o', \n",
    "         linewidth=1, \n",
    "         markersize=1.5,\n",
    "         color='blue',\n",
    "         label='CO2 Concentration (ppm)')\n",
    "\n",
    "# Fill in the area to show uncertainty around the CO2 concentration\n",
    "plt.fill_between(co2_antarctica['age_gas_calBP'], \n",
    "                 co2_antarctica['co2_ppm'] - co2_antarctica['co2_1s_ppm'], \n",
    "                 co2_antarctica['co2_ppm'] + co2_antarctica['co2_1s_ppm'], \n",
    "                 color='blue', alpha=0.5, label='± 1 Standard Deviation')\n",
    "\n",
    "# Invert the x-axis to show the most recent years on the left\n",
    "plt.gca().invert_xaxis()\n",
    "\n",
    "# Set the title and labels\n",
    "plt.title('Antarctic Atmospheric CO2 Concentrations')\n",
    "plt.xlabel('Years Before Present (BP)')\n",
    "plt.ylabel('CO2 Concentration (ppm)')\n",
    "\n",
    "# Show the legend for the plot\n",
    "plt.legend()\n",
    "\n",
    "# Add a grid for better readability\n",
    "plt.grid()\n",
    "\n",
    "# Display the plot on the screen\n",
    "plt.show()"
   ]
  },
  {
   "cell_type": "markdown",
   "id": "2de45d0e-56d2-4644-80f6-581020fd8a34",
   "metadata": {},
   "source": [
    "### **Example 2: Modern CO2 concentrations**\n",
    "\n",
    "The CO2 levels measured at the Mauna Loa Observatory in Hawaii constitute one of the longest continuous records of atmospheric carbon dioxide. This dataset is the basis for the [Keeling Curve](https://doi.org/10.3402/tellusa.v28i6.11322                   ), a graph that depicts the persistent rise of CO2 concentrations in Earth's atmosphere since 1958. The data was downloaded from [here](https://gml.noaa.gov/ccgg/trends/data.html) in monthly resolution."
   ]
  },
  {
   "cell_type": "code",
   "execution_count": null,
   "id": "e3455dfb-67a8-44eb-8876-b2f8e4f0f694",
   "metadata": {},
   "outputs": [],
   "source": [
    "# Load dataset\n",
    "path = '../Datasets/co2_mm_mlo.csv' \n",
    "co2_modern = pd.read_csv(path, \n",
    "                 skiprows=40,\n",
    "                 sep=\",\")\n",
    "print(co2_modern.head())"
   ]
  },
  {
   "cell_type": "code",
   "execution_count": null,
   "id": "dfbf6c07-57cb-4058-8c6e-be1773de422e",
   "metadata": {},
   "outputs": [],
   "source": [
    "# Get datetime date\n",
    "co2_modern[\"date\"] = co2_modern[\"year\"].astype(str) + \"-\" + co2_modern[\"month\"].astype(str)\n",
    "co2_modern[\"date\"] = pd.to_datetime(co2_modern[\"date\"], format=\"%Y-%m\")\n",
    "print(co2_modern.head())"
   ]
  },
  {
   "cell_type": "code",
   "execution_count": null,
   "id": "cab9b7d7-9b3a-4ba0-a82b-6f1effe0130e",
   "metadata": {},
   "outputs": [],
   "source": [
    "# Create a figure for the plot\n",
    "plt.figure(figsize=(10, 6))\n",
    "\n",
    "# Plot average CO2 concentrations over time with markers\n",
    "plt.plot(co2_modern['date'], co2_modern['average'], \n",
    "         linewidth=1, \n",
    "         color='blue', \n",
    "         label='Average')\n",
    "\n",
    "# Plot deseasonalized CO2 concentrations over time with markers\n",
    "plt.plot(co2_modern['date'], co2_modern['deseasonalized'], \n",
    "         linewidth=1, \n",
    "         color='orange', \n",
    "         label='Deseasonalized')\n",
    "\n",
    "# Set the title and labels\n",
    "plt.title('Modern Atmospheric CO2 Concentrations')\n",
    "plt.xlabel('Year')\n",
    "plt.ylabel('CO2 Concentration (ppm)')\n",
    "plt.legend()\n",
    "\n",
    "# Add a grid for better readability\n",
    "plt.grid()\n",
    "\n",
    "# Display the plot on the screen\n",
    "plt.show()"
   ]
  },
  {
   "cell_type": "markdown",
   "id": "55ba933d-cf46-4319-80de-be8e8921fdd9",
   "metadata": {},
   "source": [
    "**Exercise:** Create a figure that compares atmospheric CO2 concentrations from the Antarctic ice core data and modern measurements from the Mauna Loa Observatory by plotting both lines in the same figure. Additionally, highlight the maximum pre-industrial CO2 level in the figure by adding a [`axhline`](https://matplotlib.org/3.1.1/api/_as_gen/matplotlib.axes.Axes.axhline.html). Save the figure after layout customizations of your choice to the folder \"Figures\"."
   ]
  },
  {
   "cell_type": "markdown",
   "id": "931c9bde-91c4-490a-87a6-3503b710193d",
   "metadata": {},
   "source": [
    "Preparation:"
   ]
  },
  {
   "cell_type": "code",
   "execution_count": null,
   "id": "93a319be-5ff0-4ba1-911d-47f586423ba5",
   "metadata": {},
   "outputs": [],
   "source": [
    "# Convert the modern CO2 dataset to years after 1950\n",
    "co2_modern['relative_year'] = (co2_modern['year'] - 1950) * -1\n",
    "    # Check end years of datasets\n",
    "print(co2_antarctica['age_gas_calBP'].min() - 1950)\n",
    "print(co2_modern['relative_year'].min() - 1950)\n",
    "\n",
    "# Filter antarctica data to get max CO2 before industrialization\n",
    "pre_industrial_mask = co2_antarctica['age_gas_calBP'] > 200 # 1950 (BP level in the dataset) - 1750 (start industrialization)\n",
    "max_pre_industrial_co2 = co2_antarctica.loc[pre_industrial_mask, 'co2_ppm'].max() "
   ]
  },
  {
   "cell_type": "code",
   "execution_count": null,
   "id": "e145660e-d8ea-44bb-8e9b-dea1d15787d7",
   "metadata": {},
   "outputs": [],
   "source": []
  },
  {
   "cell_type": "markdown",
   "id": "5ff2c97d-26b5-408f-82f6-134a86ae183c",
   "metadata": {},
   "source": [
    "## 1.2 Scatter Plot"
   ]
  },
  {
   "cell_type": "markdown",
   "id": "3c5a9294-de20-404d-ba72-43154fec807e",
   "metadata": {},
   "source": [
    "### **Example 3: Chemical concentrations in volcanic tephra**\n",
    "\n",
    "The dataset consists of extensive analyses of volcanic glass compositions from tephra layers produced by the Campi Flegrei caldera volcano over the last 15,000 years. It includes glass composition analyses from multiple eruptions, highlighting the diverse chemical characteristics of the ash deposits, which are essential for dating and correlating tephra across various archaeological and geological sites in the Mediterranean region.\n",
    "\n",
    "Variables in \"majors\" are given in weight percent (wt%). Variables in \"traces\" are given in parts per million (ppm).\n",
    "\n",
    "**Dataset and parts of code (modified) derived from:**\n",
    "Petrelli, Maurizio. Introduction to python in earth science data analysis: from descriptive statistics to machine learning. Springer Nature, 2021.\n",
    "\n",
    "**Original dataset:**\n",
    "Smith, V. C., Isaia, R., and Pearce, N.: Tephrostratigraphy and glass compositions of post-15 kyr Campi Flegrei eruptions: implications for eruption history and chronostratigraphic markers, Quaternary Science Reviews, 30, 3638–3660, doi:10.1016/j.quascirev.2011.07.012,                   2011."
   ]
  },
  {
   "cell_type": "code",
   "execution_count": null,
   "id": "e90f57d1-10ea-477c-8f89-be73da2366d8",
   "metadata": {},
   "outputs": [],
   "source": [
    "# Load dataset from two excel sheets\n",
    "path = '../Datasets/Smith_glass_post_NYT_data.xlsx'\n",
    "majors = pd.read_excel(path)\n",
    "traces = pd.read_excel(path, sheet_name=1)"
   ]
  },
  {
   "cell_type": "code",
   "execution_count": null,
   "id": "752938c6-5989-47f0-b151-19211a119b5f",
   "metadata": {},
   "outputs": [],
   "source": [
    "print(majors.head())"
   ]
  },
  {
   "cell_type": "code",
   "execution_count": null,
   "id": "219a98d2-0ad1-49f5-8533-55cbed235ed6",
   "metadata": {
    "scrolled": true
   },
   "outputs": [],
   "source": [
    "print(traces.head())"
   ]
  },
  {
   "cell_type": "markdown",
   "id": "f7618667-018b-4c88-8540-e04f7bc6b61a",
   "metadata": {},
   "source": [
    "### Compositions against time (eruption events):"
   ]
  },
  {
   "cell_type": "markdown",
   "id": "80535071-dd43-4ee2-b5c9-7766397e2e96",
   "metadata": {},
   "source": [
    "Preparation:"
   ]
  },
  {
   "cell_type": "code",
   "execution_count": null,
   "id": "bff9409a-2172-45b0-bc8a-1b747b393542",
   "metadata": {},
   "outputs": [],
   "source": [
    "# Define the desired order for the epochs: oldest (left) to youngest (right)\n",
    "epochs = ['one', 'two', 'three', 'three-b']\n",
    "majors['Epoch'] = pd.Categorical(majors['Epoch'], categories=epochs, ordered=True)\n",
    "\n",
    "# Sort based on the epoch order\n",
    "majors = majors.sort_values('Epoch')\n",
    "\n",
    "# Define oxide columns to plot in individual subplots\n",
    "oxide_columns = ['SIO2', 'CAO', 'FEO', 'MGO', 'P2O5', 'Cl']"
   ]
  },
  {
   "cell_type": "markdown",
   "id": "98b182f4-5230-49ed-b4dc-27b9756781b2",
   "metadata": {},
   "source": [
    "Figure with subplots - individual plots for each variable:"
   ]
  },
  {
   "cell_type": "code",
   "execution_count": null,
   "id": "4bfc5c13-4d56-42c5-8a1d-67037a4b2e0f",
   "metadata": {},
   "outputs": [],
   "source": [
    "# Set up the figure with subplots\n",
    "fig, axes = plt.subplots(len(oxide_columns), 1, figsize=(12, 12), sharex=True) # shared x axis\n",
    "fig.subplots_adjust(hspace=0.1) # space between subplots\n",
    "\n",
    "# Loop over each oxide to create individual plots\n",
    "for i, oxide in enumerate(oxide_columns):\n",
    "    ax = axes[i]\n",
    "    \n",
    "    # Plot data with crosses as markers\n",
    "    ax.scatter(majors['Eruption'], majors[oxide],\n",
    "               s=50,\n",
    "               color='black',\n",
    "               marker='x')\n",
    "    \n",
    "    # Set the y-axis label\n",
    "    ax.set_ylabel(f'{oxide} (wt%)')\n",
    "    \n",
    "    # Add horizontal grid lines\n",
    "    ax.grid(axis='y', linestyle='--', color='gray', alpha=0.5)\n",
    "\n",
    "# Rotate x-axis labels for clarity\n",
    "plt.setp(axes[-1].get_xticklabels(), rotation=45, ha=\"right\")\n",
    "axes[-1].set_xlabel('Eruption')\n",
    "\n",
    "# Title for the overall plot\n",
    "fig.suptitle('Compositional Variation Across Eruptions')\n",
    "\n",
    "# Adjust to tight layout\n",
    "plt.tight_layout()  \n",
    "\n",
    "# Show the plot\n",
    "plt.show()"
   ]
  },
  {
   "cell_type": "markdown",
   "id": "d95f1055-838f-40b1-bfec-cc91a6ff479f",
   "metadata": {},
   "source": [
    "### Relationship between two continious variables:"
   ]
  },
  {
   "cell_type": "code",
   "execution_count": null,
   "id": "ac903b9c-526a-478f-934c-8635da3e7163",
   "metadata": {},
   "outputs": [],
   "source": [
    "# Create a scatter plot\n",
    "fig, ax = plt.subplots()\n",
    "\n",
    "# Plot\n",
    "ax.scatter(traces['Zr'], traces['Th'], color='blue') # Zirconium vs. Thorium\n",
    "\n",
    "# Set the title and labels\n",
    "plt.title(\"Zr and Th Concentrations\")\n",
    "plt.xlabel(\"Zr [ppm]\")\n",
    "plt.ylabel(\"Th [ppm]\")\n",
    "plt.show()"
   ]
  },
  {
   "cell_type": "markdown",
   "id": "52bf5675-0d73-41d2-bda8-16ffc4c39670",
   "metadata": {},
   "source": [
    "### Conditioning on other variables\n",
    "\n",
    "Understanding the distribution of a variable often leads to questions about how it varies with other variables. The `hue` parameter in seaborn adds color to plots based on a categorical variable, differentiating data points by category."
   ]
  },
  {
   "cell_type": "markdown",
   "id": "e7ddc072-20c8-4093-8daf-52905b369d82",
   "metadata": {},
   "source": [
    "Preparation:"
   ]
  },
  {
   "cell_type": "code",
   "execution_count": null,
   "id": "b320d88c-7034-4049-8f57-8b3c96cc3c12",
   "metadata": {},
   "outputs": [],
   "source": [
    "# Define the color mapping for each epoch\n",
    "color_map = {'one':'red', 'two':'blue', 'three':'purple', 'three-b':'orange'}"
   ]
  },
  {
   "cell_type": "markdown",
   "id": "55108995-ccbe-43de-8032-282f60a4586b",
   "metadata": {},
   "source": [
    "Plots using matplotlib and seaborn:"
   ]
  },
  {
   "cell_type": "code",
   "execution_count": null,
   "id": "9af6ec1b-629a-4290-8bc3-5e477ee8f285",
   "metadata": {},
   "outputs": [],
   "source": [
    "# 1. Scatter plot with matplotlib:\n",
    "\n",
    "# Create a scatter plot\n",
    "fig, ax = plt.subplots()\n",
    "\n",
    "# Plot\n",
    "for epoch in color_map.keys():\n",
    "    ax.scatter(traces.loc[traces.Epoch == epoch, 'Zr'], traces.loc[traces.Epoch == epoch, 'Th'], \n",
    "               color=color_map[epoch], \n",
    "               label=epoch)\n",
    "    ax.legend()\n",
    "\n",
    "# Set the title and labels\n",
    "plt.title(\"Zr and Th Concentrations Across Epochs\")\n",
    "plt.xlabel(\"Zr [ppm]\")\n",
    "plt.ylabel(\"Th [ppm]\")\n",
    "plt.legend(title='Epoch')\n",
    "plt.show()\n",
    "\n",
    "# ---\n",
    "\n",
    "# 2. Scatter plot with seaborn:\n",
    "\n",
    "# Plot\n",
    "plt.figure()\n",
    "sns.scatterplot(data=traces,\n",
    "                x='Zr',\n",
    "                y='Th',\n",
    "                hue='Epoch', \n",
    "                palette=color_map,\n",
    "                marker='o',\n",
    "                s=60)\n",
    "\n",
    "# Set the title and labels\n",
    "plt.title(\"Zr and Th Concentrations Across Epochs\")\n",
    "plt.xlabel(\"Zr [ppm]\")\n",
    "plt.ylabel(\"Th [ppm]\")\n",
    "plt.legend(title='Epoch')\n",
    "plt.show()"
   ]
  },
  {
   "cell_type": "markdown",
   "id": "7d9bedb8-6955-4b81-93ba-f35cd282d834",
   "metadata": {},
   "source": [
    "## 2. Data Distributions\n",
    "\n",
    "While all the plots in this notebook can also be created using matplotlib alone, seaborn, which is specifically designed for statistical data visualization, makes many plotting processes easier and more straightforward. However, seaborn limit detailed customization options and can be slower with very large datasets since it depends on matplotlib.\n",
    "\n",
    "Seaborn `displot` is a function in seaborn used to create distribution plots of a variable, including histograms, kernel density estimates (KDE), and other distributions. It handles both univariate and bivariate distributions and can easily incorporate `hue` for categorical differentiation using color."
   ]
  },
  {
   "cell_type": "markdown",
   "id": "1480da55-dff4-4e44-9c96-fb642ce374da",
   "metadata": {},
   "source": [
    "### **Example 3 [continued]: Chemical concentrations in volcanic tephra**"
   ]
  },
  {
   "cell_type": "code",
   "execution_count": null,
   "id": "8b80079c-4a35-44d2-abbb-63437836a04f",
   "metadata": {},
   "outputs": [],
   "source": [
    "# 1. Using matplotlib:\n",
    "# Plot counts:\n",
    "plt.figure()\n",
    "plt.hist(traces.Zr,\n",
    "         bins='auto',\n",
    "         edgecolor='black',\n",
    "         color='blue')\n",
    "plt.xlabel('Zr [ppm]')\n",
    "plt.ylabel('Counts')\n",
    "plt.show()\n",
    "\n",
    "# Plot probability density:\n",
    "plt.figure()\n",
    "plt.hist(traces.Zr,\n",
    "         bins='auto',\n",
    "         edgecolor='black',\n",
    "         color='blue',\n",
    "         density=True)\n",
    "plt.xlabel('Zr [ppm]')\n",
    "plt.ylabel('Density')\n",
    "plt.show()\n",
    "\n",
    "# Cumulative probability:\n",
    "plt.figure()\n",
    "plt.hist(traces.Zr,\n",
    "         bins='auto',\n",
    "         edgecolor='black',\n",
    "         color='blue',\n",
    "         density=True,\n",
    "         cumulative=1,\n",
    "         histtype='step')\n",
    "plt.xlabel('Zr [ppm]')\n",
    "plt.ylabel('Proportion')\n",
    "plt.show()\n",
    "\n",
    "# 2. Creating similar plots using seaborn:\n",
    "# Plot counts:\n",
    "sns.displot(traces, \n",
    "            x=\"Zr\",\n",
    "            edgecolor='black',\n",
    "            color='blue')\n",
    "plt.show()\n",
    "\n",
    "# Plot probability density:\n",
    "sns.displot(traces,\n",
    "            x=\"Zr\",\n",
    "            edgecolor='black',\n",
    "            color='blue',\n",
    "            stat=\"density\")\n",
    "plt.show()\n",
    "\n",
    "# Cumulative probability:\n",
    "sns.displot(traces,\n",
    "            x=\"Zr\",\n",
    "            color='black',\n",
    "            kind=\"ecdf\")\n",
    "plt.show()"
   ]
  },
  {
   "cell_type": "markdown",
   "id": "ad9cb939-064e-448b-8f99-5d820d61e269",
   "metadata": {},
   "source": [
    "### Choosing the bin size in histograms\n",
    "\n",
    "The size of the bins in a histogram matters because using the wrong size can hide important patterns in the data or make random noise look significant. While tools like `displot` and `histplot` (included in `displot`) in seaborn automatically set a default bin size based on the data, it should be verified that findings remain consistent when changing the bin size. In seaborn, adjustments are possible, for example,  with the `binwidth` or the `bins` parameters."
   ]
  },
  {
   "cell_type": "code",
   "execution_count": null,
   "id": "ce250b52-da29-4019-a1f3-9ecb53320d98",
   "metadata": {},
   "outputs": [],
   "source": [
    "# Using binwidth\n",
    "sns.displot(traces,\n",
    "            x=\"Zr\",\n",
    "            edgecolor='black',\n",
    "            color='blue',\n",
    "            binwidth=3) \n",
    "plt.show()\n",
    "\n",
    "# Using bins\n",
    "sns.displot(traces,\n",
    "            x=\"Zr\",\n",
    "            edgecolor='black',\n",
    "            color='blue',\n",
    "            bins=5) \n",
    "plt.show()"
   ]
  },
  {
   "cell_type": "markdown",
   "id": "dd80ed59-eb78-47e7-9ae0-298246837640",
   "metadata": {},
   "source": [
    "### Choosing smoothing\n",
    "\n",
    "Kernel Density Estimation (KDE) is a statistical method for estimating the probability density function of a random variable, creating a smooth curve that visualizes the distribution of data points. Finding the right smoothing level is crucial, as excessive smoothing can obscure important details, while too little can create a cluttered appearance. The bandwidth (`bw_adjust`) can be adjusted to test different representations. In the following code block, a KDE curve is added to the histplot; and selected as plot type on its own using `kind`."
   ]
  },
  {
   "cell_type": "code",
   "execution_count": null,
   "id": "3f7cabae-b502-4c4a-bf12-7fca3f1070ca",
   "metadata": {},
   "outputs": [],
   "source": [
    "# KDE overlay\n",
    "sns.displot(traces,\n",
    "            x=\"Zr\",\n",
    "            edgecolor='black',\n",
    "            color='blue',\n",
    "            kde=True,\n",
    "            fill=True)\n",
    "plt.show()\n",
    "\n",
    "# KDE plot\n",
    "sns.displot(traces,\n",
    "            x=\"Zr\",\n",
    "            color='blue',\n",
    "            kind='kde')\n",
    "plt.show()"
   ]
  },
  {
   "cell_type": "markdown",
   "id": "7fb411c7-396e-4d7f-93b0-8981f03c811e",
   "metadata": {},
   "source": [
    "### Plotting many distributions made easy with seaborn"
   ]
  },
  {
   "cell_type": "code",
   "execution_count": null,
   "id": "96e270bd-2f41-4653-bc35-0542ba6e2ecb",
   "metadata": {
    "scrolled": true
   },
   "outputs": [],
   "source": [
    "sns.pairplot(majors[oxide_columns])\n",
    "plt.show()"
   ]
  },
  {
   "cell_type": "code",
   "execution_count": null,
   "id": "6e52c6a5-9bfb-4761-99a2-5899ef1fd000",
   "metadata": {
    "scrolled": true
   },
   "outputs": [],
   "source": [
    "sns.pairplot(majors[oxide_columns + ['Epoch']],\n",
    "             hue='Epoch',\n",
    "             diag_kind='hist')\n",
    "plt.show()"
   ]
  },
  {
   "cell_type": "markdown",
   "id": "fba63345-2a82-49d0-af63-fa79404ec63a",
   "metadata": {},
   "source": [
    "### **Example 4: Palmer Penguins**\n",
    "<img src=\"../Images/penguins.png\" style=\"width: 400px;\">\n",
    "\n",
    "*Artwork by @allison_horst*\n",
    "\n",
    "Seaborn as other libraries offers some teaching datasets and we here want to import the \"penguin\" dataset which contains data of three different species of penguins, collected from three islands in the Palmer Archipelago, Antarctica."
   ]
  },
  {
   "cell_type": "code",
   "execution_count": null,
   "id": "62c1646f-0ac8-4c32-860c-fcfe9ce5f708",
   "metadata": {},
   "outputs": [],
   "source": [
    "# Load dataset directly from seaborn\n",
    "penguins = sns.load_dataset(\"penguins\")\n",
    "penguins.sample(5)"
   ]
  },
  {
   "cell_type": "markdown",
   "id": "aba47a5b-9ec8-4541-8abc-c5de9a659636",
   "metadata": {},
   "source": [
    "**Exercise:** Create two separate figures representing the distribution of body mass from the penguin dataset. The first figure should be a histogram showing the distribution of body mass for all penguin species in a single plot, with color coding for species and a Kernel Density Estimate (KDE) overlay. Similarly plot the distribution of body mass categorized by island. Ensure both plots are correctly labeled and save the figure to the folder \"Figures\". While many tutorials are available online for the penguins dataset, try to use only this notebook for this exercise. You may want to explore additional analyses and visualizations with the dataset once you have completed the exercise."
   ]
  },
  {
   "cell_type": "code",
   "execution_count": null,
   "id": "3ffec21f-b940-494e-94c5-c54e7ed14033",
   "metadata": {},
   "outputs": [],
   "source": []
  },
  {
   "cell_type": "markdown",
   "id": "2e6a0a38-0029-4c23-bd90-86c4edc112d9",
   "metadata": {},
   "source": [
    "## 3. Comparing Distributions Categorical\n",
    "\n",
    "As the size of the dataset grows, categorical scatter plots or histograms become limited in the information they can provide about the distribution of values within each category. When this happens, there are several approaches for summarizing the distributional information in ways that facilitate easy comparisons across the category levels.\n",
    "\n",
    "Similar to `displot` for distribution plots, seaborn `catplot` is a function for creating categorical plots. It combines various types of plots (e.g. box plots - also individually accessible using seaborn `boxplot` function) in a single interface, enabling comparison of categorical data across different groups."
   ]
  },
  {
   "cell_type": "markdown",
   "id": "4adc1d89-a9ae-495a-a09e-be27f85aba6b",
   "metadata": {},
   "source": [
    "## 3.1 Boxplots & Violinplots"
   ]
  },
  {
   "cell_type": "code",
   "execution_count": null,
   "id": "e04572fa-e73c-457f-8200-c24f9cdc0bc1",
   "metadata": {},
   "outputs": [],
   "source": [
    "# Create a catplot with boxplot kind\n",
    "sns.catplot(x='island',\n",
    "            y='body_mass_g',\n",
    "            hue='species',\n",
    "            data=penguins,\n",
    "            kind='box')\n",
    "plt.xlabel('Island')\n",
    "plt.ylabel('Body Mass (g)')\n",
    "plt.show()\n",
    "\n",
    "# Create a catplot with violinplot kind (combine boxplot with the kernel density estimation)\n",
    "sns.catplot(x='island',\n",
    "            y='body_mass_g',\n",
    "            hue='species',\n",
    "            data=penguins,\n",
    "            kind='violin')\n",
    "plt.xlabel('Island')\n",
    "plt.ylabel('Body Mass (g)')\n",
    "plt.show()"
   ]
  },
  {
   "cell_type": "markdown",
   "id": "df380603-6412-4d88-9316-cd42436156c4",
   "metadata": {},
   "source": [
    "### Multiple Columns as Categories\n",
    "\n",
    "Assuming we want to create a unified boxplot where all specified numerical characteristics are plotted together on the same x-axis. Melting the dataframe transforms it from a wide format (where each characteristic is in its own column) to a long format, where we have a single column containing the values for all oxide components."
   ]
  },
  {
   "cell_type": "code",
   "execution_count": null,
   "id": "37a108d6-dab9-4aac-8dc4-ecb55ff69f7d",
   "metadata": {},
   "outputs": [],
   "source": [
    "# Define columns used as categories\n",
    "penguin_variables = ['bill_length_mm', 'bill_depth_mm', 'flipper_length_mm', 'body_mass_g']\n",
    "\n",
    "# Melt the DataFrame to long format for plotting\n",
    "penguins_long = pd.melt(penguins, id_vars='species', value_vars=penguin_variables, \n",
    "                         var_name='variable', value_name='value')\n",
    "print(penguins_long.sample(5))"
   ]
  },
  {
   "cell_type": "markdown",
   "id": "3cb15b21-5401-4500-887e-a732044f8251",
   "metadata": {},
   "source": [
    "We create a combined boxplot for all penguin measurements across species ... but encounter a common issue when (visually) comparing multiple variables: differing scales."
   ]
  },
  {
   "cell_type": "code",
   "execution_count": null,
   "id": "d1a9f6e3-ec10-42ac-a804-172139d5f377",
   "metadata": {},
   "outputs": [],
   "source": [
    "plt.figure()\n",
    "sns.boxplot(x='variable',\n",
    "            y='value',\n",
    "            hue='species',\n",
    "            data=penguins_long)\n",
    "\n",
    "# Add titles and labels\n",
    "plt.title('Penguin Characteristic by Species')\n",
    "plt.xlabel('Variable')\n",
    "plt.ylabel('Values')\n",
    "plt.xticks(rotation=45)  # Rotate x-axis labels for readability\n",
    "plt.legend(title='Species')\n",
    "plt.tight_layout()  # Adjust layout for better spacing\n",
    "plt.show()"
   ]
  },
  {
   "cell_type": "markdown",
   "id": "a9d77086-ff93-469c-be1a-6d2101a91270",
   "metadata": {},
   "source": [
    "`body_mass_g` values are much larger than the values of the other variables. Therefore, `body_mass_g` shall be displayed on a secondary y-axis for clarity. \n",
    "\n",
    "To explicitly specify which matplotlib axes to draw a plot on requires using the `ax` parameter. "
   ]
  },
  {
   "cell_type": "code",
   "execution_count": null,
   "id": "b8cb2292-484c-4526-97d3-bc382dd5e995",
   "metadata": {},
   "outputs": [],
   "source": [
    "# Lists of variables for each axis\n",
    "left = ['bill_length_mm', 'bill_depth_mm', 'flipper_length_mm']\n",
    "right = ['body_mass_g']\n",
    "\n",
    "# Create the primary boxplot\n",
    "plt.figure()\n",
    "\n",
    "# Data for primary axis\n",
    "ax = sns.boxplot(x='variable',\n",
    "                 y='value',\n",
    "                 hue='species',\n",
    "                 data=penguins_long[penguins_long['variable'].isin(left)])  \n",
    "\n",
    "# Create a secondary axis\n",
    "ax2 = ax.twinx()\n",
    "\n",
    "# Data for secondary axis: body_mass_g\n",
    "sns.boxplot(x='variable',\n",
    "            y='value',\n",
    "            hue='species',\n",
    "            data=penguins_long[penguins_long['variable'].isin(right)], \n",
    "            ax=ax2)\n",
    "\n",
    "# Drawing a vertical line between the two y-axes\n",
    "ax.axvline(x=2.5, color='k', linestyle='--', linewidth=1)  # Adjust x-position as necessary\n",
    "\n",
    "# Handle legend\n",
    "ax.get_legend().remove() # remove\n",
    "ax2.get_legend().remove()\n",
    "handles, labels = ax.get_legend_handles_labels()\n",
    "ax.legend(handles, labels, title='Epoch', loc='upper left', bbox_to_anchor=(1.2, 1)) # Position the legend outside the plot\n",
    "\n",
    "# Add titles and labels\n",
    "plt.title('Penguin Variables by Species')\n",
    "ax.set_xlabel('Variable')\n",
    "ax.set_ylabel('Variable [mm]')  # Label for primary axis\n",
    "ax2.set_ylabel('Variable (g)')  # Label for secondary axis\n",
    "ax.set_xticklabels(ax.get_xticklabels(), rotation=45)\n",
    "plt.tight_layout()  # Adjust layout for better spacing\n",
    "plt.show()"
   ]
  },
  {
   "cell_type": "markdown",
   "id": "c79200d2-fc96-432d-9896-6b30bbe34436",
   "metadata": {},
   "source": [
    "### Combine Plots: Violinplot & Swarmplot"
   ]
  },
  {
   "cell_type": "code",
   "execution_count": null,
   "id": "fe4b50cf-18d0-48db-bc32-6f4fe7e1f439",
   "metadata": {},
   "outputs": [],
   "source": [
    "# Create the violin plot with catplot\n",
    "g = sns.catplot(x='island',\n",
    "                y='body_mass_g',\n",
    "                data=penguins,\n",
    "                kind='violin',\n",
    "                inner=None)\n",
    "\n",
    "# Overlay the swarm plot on top of the violin plot\n",
    "sns.swarmplot(x='island',\n",
    "              y='body_mass_g',\n",
    "              data=penguins,\n",
    "              color=\"k\",\n",
    "              size=3,\n",
    "              ax=g.ax)  # Use g.ax to overlay \n",
    "\n",
    "# Set axis labels\n",
    "plt.xlabel('Island')\n",
    "plt.ylabel('Body Mass (g)')\n",
    "plt.show()"
   ]
  },
  {
   "cell_type": "markdown",
   "id": "bd9c27c5-e70d-47d2-aacf-6f3ef1b0180e",
   "metadata": {},
   "source": [
    "### **Example 3 [continued]: Chemical concentrations in volcanic tephra**"
   ]
  },
  {
   "cell_type": "markdown",
   "id": "f832a1d4-37e3-44f2-abd2-9c0a3eaa06a4",
   "metadata": {},
   "source": [
    "**Exercise:** Create a combined boxplot visualization that displays the distribution of various oxide components from the 'majors' dataset, categorized by epochs. The boxplot should clearly differentiate the values for each oxide based on the specified epochs. This requires a long format of the dataset and two y-axes similar to the combined boxplot visualization of the penguin data. Use the variable SIO2 for the primary axis and the variables specified in 'right' for the secondary axis. Ensure both plots are correctly labeled and save the figure to the folder \"Figures\". "
   ]
  },
  {
   "cell_type": "markdown",
   "id": "c7052e1d-3fb6-42de-b1a3-0dc79fa38bd6",
   "metadata": {},
   "source": [
    "Preparation:"
   ]
  },
  {
   "cell_type": "code",
   "execution_count": null,
   "id": "4319810c-e01e-4b29-bceb-9d944da38c96",
   "metadata": {},
   "outputs": [],
   "source": [
    "# Define oxide columns\n",
    "oxide_columns = ['SIO2', 'CAO', 'FEO', 'MGO', 'P2O5', 'Cl']\n",
    "\n",
    "# Lists of variables for each axis\n",
    "left = ['SIO2']\n",
    "right = ['CAO','FEO','MGO']\n",
    "\n",
    "# Melt the DataFrame to long format for plotting\n",
    "majors_long = pd.melt(majors, id_vars='Epoch', value_vars=oxide_columns, \n",
    "                       var_name='variable', value_name='value')\n",
    "print(majors_long.sample(5))"
   ]
  },
  {
   "cell_type": "markdown",
   "id": "8301af7b-070f-43d2-9c3d-77412de9a3c1",
   "metadata": {},
   "source": [
    "Plot:"
   ]
  },
  {
   "cell_type": "code",
   "execution_count": null,
   "id": "da6c8d20-a142-44b6-96c7-ee3ce7174629",
   "metadata": {},
   "outputs": [],
   "source": []
  },
  {
   "cell_type": "markdown",
   "id": "9b2e0337-27e6-462d-afdf-11245052601d",
   "metadata": {},
   "source": [
    "## 3.2 Barplots"
   ]
  },
  {
   "cell_type": "markdown",
   "id": "e3b120f8-2508-47ce-9764-b5aa62eb1544",
   "metadata": {},
   "source": [
    "### **Example 5: Köppen-Geiger maps for 1901–2099**\n",
    "\n",
    "The Köppen-Geiger climate classification is a widely used system that categorizes the world's climates based on temperature and precipitation patterns, distinguishing distinct climate zones such as tropical, arid, temperate, and polar. Recently, Version 2 of the Köppen-Geiger climate classification maps was introduced, featuring high-resolution data at 1 km. For this notebook, however, the dataset at the coarsest resolution of 1° was downloaded due to space limitations. It covers six periods from 1901 to 2099. The projections downloaded for this notebook are based on the SSP2-4.5 future socio-economic scenario. More scenarios are available. The complete dataset is accessible  [here](https://figshare.com/articles/dataset/High-resolution_1_km_K_ppen-Geiger_maps_for_1901_2099_based_on_constrained_CMIP6_projections/21789074/1). \n",
    "\n",
    "The The major climate zones in this dataset are: A: Tropical climates; B: Arid or semi-arid climates; C: Temperate climates; D: Continental climates; E: Polar climates\n",
    "\n",
    "**Original dataset:**\n",
    "Beck, H.E., McVicar, T.R., Vergopolan, N. et al. High-resolution (1 km) Köppen-Geiger maps for 1901–2099 based on constrained CMIP6 projections. Sci Data 10, 724 (2023). https://doi.org/10.1038/s41597-023-02549-6 . "
   ]
  },
  {
   "cell_type": "markdown",
   "id": "19f358bd-b876-44ab-9a01-16bdcd445836",
   "metadata": {},
   "source": [
    "Global values for the major climate zones across the investigated historical and projected periods were obtained from [the Github repository containing the code for the paper](https://github.com/hylken/Koppen-Geiger_maps), providing an ideal foundation for demonstrating the use of bar plots:"
   ]
  },
  {
   "cell_type": "code",
   "execution_count": null,
   "id": "24f407ce-efea-473d-bb43-549a4165eeb6",
   "metadata": {},
   "outputs": [],
   "source": [
    "# Load dataset\n",
    "path = '../Datasets/koppen_geiger/ssp245_summary/ssp245_kg_major_area_pct.csv' \n",
    "koppen_geiger_summary = pd.read_csv(path)\n",
    "print(koppen_geiger_summary)\n",
    "\n",
    "# Define a color palette similar to publication\n",
    "colors = [\n",
    "    (0.196, 0.196, 1.0, 0.7),  # Blue\n",
    "    (1.0, 0.0, 0.0, 0.7),      # Red\n",
    "    (0.353, 0.863, 0.274, 0.7), # Green\n",
    "    (0.196, 0.588, 0.588, 0.7), # Teal\n",
    "    (0.392, 0.392, 0.392, 0.7)  # Gray\n",
    "]"
   ]
  },
  {
   "cell_type": "code",
   "execution_count": null,
   "id": "ae09906f-2e94-4aaa-ad5e-1146b771b410",
   "metadata": {},
   "outputs": [],
   "source": [
    "# 1. Using matplotlib:\n",
    "\n",
    "# Extract data for plotting\n",
    "periods = koppen_geiger_summary['Period']\n",
    "values = koppen_geiger_summary[['A', 'B', 'C', 'D', 'E']].values\n",
    "\n",
    "# Set bar width and positions\n",
    "bar_width = 0.15\n",
    "positions = np.arange(len(periods))\n",
    "\n",
    "# Create the plot\n",
    "plt.figure()\n",
    "\n",
    "# Create bars for each category using a for-loop\n",
    "for i, (category, color) in enumerate(zip(['A', 'B', 'C', 'D', 'E'], colors)):\n",
    "    plt.bar(positions + i * bar_width, values[:, i], # x & y\n",
    "            width=bar_width, \n",
    "            label=category, \n",
    "            color=color)\n",
    "\n",
    "# Adding labels and title\n",
    "plt.xlabel('Periods')\n",
    "plt.ylabel('Percentage (%)')\n",
    "plt.title('Change of Major Climate Zones Over Different Periods')\n",
    "plt.xticks(positions + bar_width * 2, periods)  # Adjust to center ticks\n",
    "plt.legend(title='Categories')\n",
    "\n",
    "# Show the plot\n",
    "plt.tight_layout()\n",
    "plt.show()\n",
    "\n",
    "# 2. Using seaborn:\n",
    "\n",
    "# Extract and reshape data for plotting\n",
    "data = koppen_geiger_summary.melt(id_vars='Period', \n",
    "                                   value_vars=['A', 'B', 'C', 'D', 'E'], \n",
    "                                   var_name='Category', \n",
    "                                   value_name='Percentage')\n",
    "\n",
    "# Create the seaborn bar plot\n",
    "plt.figure()\n",
    "sns.barplot(data=data, \n",
    "            x='Period', \n",
    "            y='Percentage', \n",
    "            hue='Category', \n",
    "            palette=colors)\n",
    "\n",
    "# Adding labels and title\n",
    "plt.xlabel('Periods')\n",
    "plt.ylabel('Percentage (%)')\n",
    "plt.title('Change of Major Climate Zones Over Different Periods')\n",
    "\n",
    "# Show the plot\n",
    "plt.tight_layout()\n",
    "plt.show()"
   ]
  },
  {
   "cell_type": "markdown",
   "id": "c0427276-7391-4c49-81c6-0c0ecdb08a2c",
   "metadata": {},
   "source": [
    "### **Example 6: Temperature anomalies**\n",
    "\n",
    "[Time series derived from National Oceanic and Atmospheric Administration [NOAA]](https://www.ncei.noaa.gov/access/monitoring/climate-at-a-glance/global/time-series) provide valuable insights into global and regional climate trends and variations."
   ]
  },
  {
   "cell_type": "markdown",
   "id": "eaef63d2-2374-4d0a-91dd-2b3be3f1423c",
   "metadata": {},
   "source": [
    "**Exercise:** The folder '../Datasets/noaa_temperature_anomalies' contains regional datasets with temperature anomalies recorded over time. Using seaborn, create a bar plot displaying the temperature anomalies for one selected region (e.g. 'Europe' as choosen in the preparatory code block). After adjusting the layout, save the figure to the \"Figures\" folder. Utilize the `RdBu_r` color palette, which is already normalized for plotting the colors in the range of anomaly values (use the variable 'colors' from the preparatory code block). This palette provides a diverging color scale, with red representing positive anomalies and blue representing negative anomalies."
   ]
  },
  {
   "cell_type": "markdown",
   "id": "71a84c84-3bc0-4ed9-92b3-c3e4f5a3f249",
   "metadata": {},
   "source": [
    "Preparation:"
   ]
  },
  {
   "cell_type": "code",
   "execution_count": null,
   "id": "32668ea1-e788-4398-9d67-2e309575dd84",
   "metadata": {},
   "outputs": [],
   "source": [
    "# Define the file path for the European dataset\n",
    "path = '../Datasets/noaa_temperature_anomalies/Europe.csv'\n",
    "\n",
    "# Load European data and compute annual mean anomalies\n",
    "anomalies = pd.read_csv(path, skiprows=4)\n",
    "\n",
    "# Convert the 'Date' column to datetime format\n",
    "anomalies['Date'] = pd.to_datetime(anomalies['Date'].astype(str), format='%Y%m')\n",
    "anomalies['Year'] = anomalies['Date'].dt.year  # Extract the year\n",
    "\n",
    "# Calculate annual mean anomalies\n",
    "anomalies = anomalies.groupby('Year')['Anomaly'].mean().reset_index()\n",
    "\n",
    "# Normalize the anomalies for coloring\n",
    "import matplotlib.colors as mcolors\n",
    "norm = mcolors.Normalize(vmin=anomalies['Anomaly'].min(), vmax=anomalies['Anomaly'].max())\n",
    "cmap = plt.get_cmap('RdBu_r')\n",
    "\n",
    "# Assign colors based on the normalized values\n",
    "colors = [cmap(norm(value)) for value in anomalies['Anomaly']]"
   ]
  },
  {
   "cell_type": "markdown",
   "id": "da450804-24d2-4d9c-bc8b-267cc41d07e5",
   "metadata": {},
   "source": [
    "Plot using seaborn:"
   ]
  },
  {
   "cell_type": "code",
   "execution_count": null,
   "id": "4c7accf1-ce9f-42fc-a3cd-d86f7eea838f",
   "metadata": {},
   "outputs": [],
   "source": []
  },
  {
   "cell_type": "markdown",
   "id": "4264f481-dffa-4a71-a659-a36e34675b75",
   "metadata": {},
   "source": [
    "## 4. Creative & Custom Plots"
   ]
  },
  {
   "cell_type": "markdown",
   "id": "b94b7a6a-8dcd-4bac-8e0d-6bcddabf80f6",
   "metadata": {},
   "source": [
    "Let's be creative and use rectangles to illustrate temperature anomalies! Warming stripes are a popular visual representation of temperature changes over time, using colored stripes where each stripe corresponds to a year and its color indicates the temperature anomaly compared to a baseline average. In the following code, will be used to create these warming stripes. This can be done with rectangles in matplotlib."
   ]
  },
  {
   "cell_type": "markdown",
   "id": "3c2d7597-2021-4189-98a1-88f3ef511ae1",
   "metadata": {},
   "source": [
    "To create the stripes using the dataset, annual mean anomalies are calculated from the monthly data."
   ]
  },
  {
   "cell_type": "code",
   "execution_count": null,
   "id": "783bfcc0-0c37-4c60-ad01-819bbea01578",
   "metadata": {},
   "outputs": [],
   "source": [
    "# Define start and end years\n",
    "start_year = anomalies['Year'].min()\n",
    "end_year = anomalies['Year'].max()"
   ]
  },
  {
   "cell_type": "markdown",
   "id": "7b7580d7-470c-447f-bd38-29bb145abc8f",
   "metadata": {},
   "source": [
    "Now let's plot the warming stripes for Europe."
   ]
  },
  {
   "cell_type": "code",
   "execution_count": null,
   "id": "01fd14f0-fdbd-421b-89d9-3ac8212957f8",
   "metadata": {},
   "outputs": [],
   "source": [
    "from matplotlib.patches import Rectangle\n",
    "from matplotlib.collections import PatchCollection\n",
    "\n",
    "# Create the plot\n",
    "fig, ax = plt.subplots(figsize=(12, 3))\n",
    "\n",
    "# Set colormap\n",
    "cmap = 'RdBu_r'\n",
    "\n",
    "# Create rectangles for warming stripes\n",
    "rectangles = [Rectangle((year, 0), 1, 1) for year in anomalies['Year']]\n",
    "rect_coll = PatchCollection(rectangles, zorder=2)\n",
    "rect_coll.set_array(anomalies['Anomaly'].values)  # Use annual mean anomalies\n",
    "rect_coll.set_cmap(cmap)\n",
    "ax.add_collection(rect_coll)\n",
    "\n",
    "# Set limits and labels\n",
    "ax.set_ylim(0, 1)\n",
    "ax.set_xlim(anomalies['Year'].min(), anomalies['Year'].max() + 1)\n",
    "ax.yaxis.set_visible(False)  # Hide y-axis\n",
    "ax.set_title('Warming Stripes for Europe', fontsize=16)\n",
    "\n",
    "# Add colorbar\n",
    "cbar = plt.colorbar(rect_coll, ax=ax, orientation='vertical')\n",
    "cbar.set_label('Temperature Anomaly (°C)', fontsize=12)\n",
    "\n",
    "# Show the plot\n",
    "plt.tight_layout()\n",
    "plt.show()"
   ]
  },
  {
   "cell_type": "code",
   "execution_count": null,
   "id": "85b92e7a-9bae-4349-965a-3d30e8324c94",
   "metadata": {},
   "outputs": [],
   "source": []
  }
 ],
 "metadata": {
  "kernelspec": {
   "display_name": "Python 3 (ipykernel)",
   "language": "python",
   "name": "python3"
  },
  "language_info": {
   "codemirror_mode": {
    "name": "ipython",
    "version": 3
   },
   "file_extension": ".py",
   "mimetype": "text/x-python",
   "name": "python",
   "nbconvert_exporter": "python",
   "pygments_lexer": "ipython3",
   "version": "3.11.10"
  }
 },
 "nbformat": 4,
 "nbformat_minor": 5
}
