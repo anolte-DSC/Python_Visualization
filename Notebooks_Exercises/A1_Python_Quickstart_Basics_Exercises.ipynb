{
 "cells": [
  {
   "cell_type": "markdown",
   "id": "48eca60f-5bb9-49b3-aebd-30cffd9d99cb",
   "metadata": {},
   "source": [
    "<img src=\"../Images/DSC_Logo.png\" style=\"width: 400px;\">"
   ]
  },
  {
   "cell_type": "markdown",
   "id": "8051eda2-061c-4f50-8fd9-6e889e221bc1",
   "metadata": {},
   "source": [
    "# Programming Concepts in Python"
   ]
  },
  {
   "cell_type": "markdown",
   "id": "51385aad-fc62-4091-893f-8baabd76ee34",
   "metadata": {},
   "source": [
    "This notebook explores foundational programming concepts in Python."
   ]
  },
  {
   "cell_type": "markdown",
   "id": "704e582f-73fb-446c-85c7-25bf85c611e7",
   "metadata": {},
   "source": [
    "## 1. Variables and data types"
   ]
  },
  {
   "cell_type": "markdown",
   "id": "8098b119-47b0-49c4-b3ec-05d949de9b8d",
   "metadata": {},
   "source": [
    "Define three variables of integer, float and string data types:"
   ]
  },
  {
   "cell_type": "code",
   "execution_count": null,
   "id": "ab8f6cab-18f2-4674-a145-4d834acee282",
   "metadata": {},
   "outputs": [],
   "source": [
    "my_integer = 133\n",
    "my_float = 3.14\n",
    "my_string = 'Hello, Python!'"
   ]
  },
  {
   "cell_type": "markdown",
   "id": "0e20fc62-0d7e-4e95-ab56-31d119800530",
   "metadata": {},
   "source": [
    "Add integers:"
   ]
  },
  {
   "cell_type": "code",
   "execution_count": null,
   "id": "b0dc5477-2faa-4840-b80b-b6b144357376",
   "metadata": {},
   "outputs": [],
   "source": [
    "my_integer = 10\n",
    "print(my_integer + 5)"
   ]
  },
  {
   "cell_type": "markdown",
   "id": "53aa0ae2-cb60-41da-9df4-4e3183df5491",
   "metadata": {},
   "source": [
    "Multiplicate float with integer:"
   ]
  },
  {
   "cell_type": "code",
   "execution_count": null,
   "id": "37f8fa6c-9cfc-46b4-b6e1-cdd4109b81a2",
   "metadata": {},
   "outputs": [],
   "source": [
    "my_float = 3.14\n",
    "print(my_float * 2)"
   ]
  },
  {
   "cell_type": "markdown",
   "id": "36a13804-97a2-4e2d-8422-a55272cf4f40",
   "metadata": {},
   "source": [
    "Concatenate strings:"
   ]
  },
  {
   "cell_type": "code",
   "execution_count": null,
   "id": "c92b0c49-66e3-483a-be65-0baf6d51ff80",
   "metadata": {},
   "outputs": [],
   "source": [
    "my_string = 'Hello, Python!'\n",
    "print(my_string + ' Hello, world!')"
   ]
  },
  {
   "cell_type": "markdown",
   "id": "1e9db91a-500e-45bc-99cd-d8b010ffc933",
   "metadata": {},
   "source": [
    "Variables and expressions can be combined with f-strings:"
   ]
  },
  {
   "cell_type": "code",
   "execution_count": null,
   "id": "625494dd-0531-4f41-a691-1a3b78cb5219",
   "metadata": {},
   "outputs": [],
   "source": [
    " print(f\"{my_string} Hello, world!\")"
   ]
  },
  {
   "cell_type": "markdown",
   "id": "6a6631d8-1981-4867-a483-f3c4feba203d",
   "metadata": {},
   "source": [
    "Boolean Type:"
   ]
  },
  {
   "cell_type": "code",
   "execution_count": null,
   "id": "8838be73-a47a-4d11-bcf7-9f7cf70fa969",
   "metadata": {},
   "outputs": [],
   "source": [
    "is_positive = my_integer > 0\n",
    "print(is_positive)"
   ]
  },
  {
   "cell_type": "markdown",
   "id": "47183406-c5f4-40d5-884f-4779c2f130c7",
   "metadata": {},
   "source": [
    "## 2. Indexing and slicing\n",
    "\n",
    "Indexing is the process of accessing individual elements within a data structure. In Python, indexing starts at '0', which means the first element is at index '0', the second element at index '1', and so on."
   ]
  },
  {
   "cell_type": "markdown",
   "id": "4f43c48a-4642-4988-a924-8b48abec0c1f",
   "metadata": {},
   "source": [
    "Example with a string:"
   ]
  },
  {
   "cell_type": "code",
   "execution_count": null,
   "id": "71fc427d-3965-4567-b096-386f51a918e0",
   "metadata": {},
   "outputs": [],
   "source": [
    "# Access the first character\n",
    "print(my_string[0])\n",
    "\n",
    "# Access the last character\n",
    "print(my_string[-1])\n",
    "\n",
    "# Slicing\n",
    "print(my_string[7:13])"
   ]
  },
  {
   "cell_type": "markdown",
   "id": "525dc51a-8ee2-4b62-a5b1-8917dcb6ba26",
   "metadata": {},
   "source": [
    "## 3. Common data structures"
   ]
  },
  {
   "cell_type": "markdown",
   "id": "b9b5f3a8-e02a-4433-9249-e6e783a4dff9",
   "metadata": {},
   "source": [
    "### Lists\n",
    "\n",
    "In Python, lists are defined using brackets `[]`, and they can contain multiple items. Lists are ordered collections that can hold different data types and are mutable."
   ]
  },
  {
   "cell_type": "markdown",
   "id": "17c0bad6-3d30-42a4-b730-e8cb32cd106e",
   "metadata": {},
   "source": [
    "List with integers:"
   ]
  },
  {
   "cell_type": "code",
   "execution_count": null,
   "id": "fb21d6b8-1d1b-4a70-be2a-428509e62cb2",
   "metadata": {},
   "outputs": [],
   "source": [
    "my_list = [1, 2, 3, 4, 5]\n",
    "print(my_list)"
   ]
  },
  {
   "cell_type": "markdown",
   "id": "d521a2e5-f629-49dd-b67f-0f4e02a7c4a7",
   "metadata": {},
   "source": [
    "List with strings:"
   ]
  },
  {
   "cell_type": "code",
   "execution_count": null,
   "id": "91931240-a4d9-4cdf-af4e-abc78ff25c3e",
   "metadata": {},
   "outputs": [],
   "source": [
    "my_list = [\"Igneous\",\"Sedimentary\",\"Metamorphic\"]\n",
    "print(my_list)"
   ]
  },
  {
   "cell_type": "markdown",
   "id": "e0f5e49c-7fce-4e25-bcc5-19914c37b15b",
   "metadata": {},
   "source": [
    "List with mixed data types:"
   ]
  },
  {
   "cell_type": "code",
   "execution_count": null,
   "id": "6fa02de2-ad72-414f-86e4-7341a0b427b0",
   "metadata": {},
   "outputs": [],
   "source": [
    "my_list = [\"Igneous\",2,1.8]\n",
    "print(my_list)"
   ]
  },
  {
   "cell_type": "markdown",
   "id": "0d6d913e-9f87-4016-a497-5620b22c9482",
   "metadata": {},
   "source": [
    "Add an element to the list:"
   ]
  },
  {
   "cell_type": "code",
   "execution_count": null,
   "id": "600cfa74-e467-4213-b982-1927186862e2",
   "metadata": {},
   "outputs": [],
   "source": [
    "my_list.append(\"Sedimentary\")\n",
    "print(my_list)"
   ]
  },
  {
   "cell_type": "markdown",
   "id": "f1064384-df1e-4779-9585-2987c7780910",
   "metadata": {},
   "source": [
    "Indexing and slicing in lists:"
   ]
  },
  {
   "cell_type": "code",
   "execution_count": null,
   "id": "2e6f647d-f36b-4824-98dd-2c3e36b876b0",
   "metadata": {},
   "outputs": [],
   "source": [
    "print(my_list[0])\n",
    "print(my_list[0:2])"
   ]
  },
  {
   "cell_type": "markdown",
   "id": "d3774a6d-5365-4d6d-ae56-dfac25cd46d3",
   "metadata": {},
   "source": [
    "### Tuples\n",
    "\n",
    "Tuples are similar to lists but are immutable."
   ]
  },
  {
   "cell_type": "code",
   "execution_count": null,
   "id": "8ee3cae4-548e-4992-ac0b-afc8848ca2a1",
   "metadata": {},
   "outputs": [],
   "source": [
    "my_tuple = (10, 20)\n",
    "print(my_tuple)"
   ]
  },
  {
   "cell_type": "markdown",
   "id": "a63221f5-0bdb-4c83-a9a3-f6d3d7303933",
   "metadata": {},
   "source": [
    "Adding an element to the tuple won't work:"
   ]
  },
  {
   "cell_type": "code",
   "execution_count": null,
   "id": "519a12e5-b673-4cee-ad21-2fa9006585ad",
   "metadata": {},
   "outputs": [],
   "source": [
    "my_tuple.append(30)"
   ]
  },
  {
   "cell_type": "markdown",
   "id": "baf9cf31-b5de-48f5-a797-11c109e8bcab",
   "metadata": {},
   "source": [
    "### Dictionaries\n",
    "\n",
    "Dictionaries store key-value pairs and are mutable. Curly Brackets `{}` are used to enclose these key-value pairs. Each key is separated from its corresponding value by a colon `:`, and multiple key-value pairs are separated by commas `,`.\n",
    "\n",
    "Create multiple dictionaries to store information about different rock types:"
   ]
  },
  {
   "cell_type": "code",
   "execution_count": null,
   "id": "09698239-74ec-4189-aa40-820c8bb13d2c",
   "metadata": {},
   "outputs": [],
   "source": [
    "# Define dictionary for Igneous rocks\n",
    "igneous = {\n",
    "    \"Examples\": [\"Granite\", \"Basalt\"],\n",
    "    \"Formation\": \"Formed from the cooling and solidification of magma or lava.\",\n",
    "    \"Characteristics\": [\"Crystalline texture\", \"Can be coarse or fine-grained\"]\n",
    "}\n",
    "\n",
    "# Define dictionary for Sedimentary rocks\n",
    "sedimentary = {\n",
    "    \"Examples\": [\"Sandstone\", \"Limestone\"],\n",
    "    \"Formation\": \"Formed from the accumulation and compaction of sediment.\",\n",
    "    \"Characteristics\": [\"Layered appearance\", \"Contain fossils\"]\n",
    "}\n",
    "\n",
    "# Define dictionary for Metamorphic rocks\n",
    "metamorphic = {\n",
    "    \"Examples\": [\"Schist\", \"Gneiss\"],\n",
    "    \"Formation\": \"Formed from the alteration of existing rocks through heat and pressure.\",\n",
    "    \"Characteristics\": [\"Foliated texture\", \"Can contain new minerals\"]\n",
    "}"
   ]
  },
  {
   "cell_type": "code",
   "execution_count": null,
   "id": "c1a99474-4850-4472-8656-050b2b87aee1",
   "metadata": {},
   "outputs": [],
   "source": [
    "print(sedimentary.keys())"
   ]
  },
  {
   "cell_type": "code",
   "execution_count": null,
   "id": "fd27004b-a52d-4d8e-9ae1-6dcb876d2aaa",
   "metadata": {},
   "outputs": [],
   "source": [
    "print(sedimentary)"
   ]
  },
  {
   "cell_type": "markdown",
   "id": "2bd74a9d-d794-4ddf-8306-6f9be1b56fa8",
   "metadata": {},
   "source": [
    "Combine the individual dictionaries into a larger (nested) dictionary. First-level keys of this dictionary are \"igneous\", \"sedimentary\", and \"metamorphic\":"
   ]
  },
  {
   "cell_type": "code",
   "execution_count": null,
   "id": "0093901e-ca08-448f-9123-56bb99c2b12b",
   "metadata": {},
   "outputs": [],
   "source": [
    "rock_types = {\n",
    "    \"Igneous\": igneous,\n",
    "    \"Sedimentary\": sedimentary,\n",
    "    \"Metamorphic\": metamorphic\n",
    "}\n",
    "print(rock_types)"
   ]
  },
  {
   "cell_type": "markdown",
   "id": "66a99f25-1059-46b3-97f2-8e5b82bbda61",
   "metadata": {},
   "source": [
    "Access the formation process for Sedimentary rocks from the 'sedimentary' dictionary and the nested 'rock_types' dictionary:"
   ]
  },
  {
   "cell_type": "code",
   "execution_count": null,
   "id": "0b31cbaa-09a0-4c93-a2b1-aeb521d053b1",
   "metadata": {},
   "outputs": [],
   "source": [
    "print(sedimentary[\"Formation\"])\n",
    "print(rock_types[\"Sedimentary\"][\"Formation\"])"
   ]
  },
  {
   "cell_type": "markdown",
   "id": "cc5fad53-9d05-4142-b754-9e37e5a22e81",
   "metadata": {},
   "source": [
    "Individual list elements in a dictionary can be accessed by indexing into the list using their position:"
   ]
  },
  {
   "cell_type": "code",
   "execution_count": null,
   "id": "30a5b573-f864-40f3-959e-2a470b06cca6",
   "metadata": {},
   "outputs": [],
   "source": [
    "rock_types[\"Sedimentary\"][\"Examples\"][0]"
   ]
  },
  {
   "cell_type": "markdown",
   "id": "5a1c1117-d659-49a6-881c-726b3f59086a",
   "metadata": {},
   "source": [
    "**Exercise**\n",
    "\n",
    "Access the characteristics for Metamorphic rocks. What data type is the output?"
   ]
  },
  {
   "cell_type": "code",
   "execution_count": null,
   "id": "648e0305-61a7-41c3-8daa-51e3ddb18b00",
   "metadata": {},
   "outputs": [],
   "source": []
  },
  {
   "cell_type": "markdown",
   "id": "1aec84a9-41a6-4a6c-9d20-0d8e33e067e8",
   "metadata": {},
   "source": [
    "### Sets\n",
    "\n",
    "Sets are unordered collections of unique elements."
   ]
  },
  {
   "cell_type": "code",
   "execution_count": null,
   "id": "3419673a-ac8e-4777-b957-d51611a28e54",
   "metadata": {},
   "outputs": [],
   "source": [
    "unique_numbers = {1, 6, 3, 4, 4, 5}\n",
    "print(unique_numbers)"
   ]
  },
  {
   "cell_type": "markdown",
   "id": "b180058e-75c9-4fc7-bb9c-420f94a43e6e",
   "metadata": {},
   "source": [
    "## 4. Conditional statements, loops and functions"
   ]
  },
  {
   "cell_type": "markdown",
   "id": "ba5d81c1-fcd3-4d64-ae9d-ec032ba7bc45",
   "metadata": {},
   "source": [
    "### Execute code based on specific conditions"
   ]
  },
  {
   "cell_type": "code",
   "execution_count": null,
   "id": "e95df8a0-3398-47f4-bae8-5dbedb3c419b",
   "metadata": {},
   "outputs": [],
   "source": [
    "my_integer = 10\n",
    "\n",
    "if my_integer > 5:\n",
    "    print('my_integer is greater than 5')\n",
    "elif my_integer == 5:\n",
    "    print('my_integer is equal to 5')\n",
    "else:\n",
    "    print('my_integer is less than 5')"
   ]
  },
  {
   "cell_type": "markdown",
   "id": "03c8dccf-0dfd-485c-aa14-3d653223c087",
   "metadata": {},
   "source": [
    "### For Loop\n",
    "\n",
    "A `for` loop is used to iterate over a sequence (such as a list, tuple, or string) or a range of numbers. It allows to execute a block of code repeatedly for each item in the sequence."
   ]
  },
  {
   "cell_type": "code",
   "execution_count": null,
   "id": "fe18f617-608e-432b-a9a5-9bc61c2d7c47",
   "metadata": {},
   "outputs": [],
   "source": [
    "for i in range(1, 4):\n",
    "    print(i)"
   ]
  },
  {
   "cell_type": "markdown",
   "id": "ba069384-01a4-4f2e-ac72-fa641056575c",
   "metadata": {},
   "source": [
    "### Functions"
   ]
  },
  {
   "cell_type": "markdown",
   "id": "2ba180d7-e232-470e-b9db-13ec9e4141af",
   "metadata": {},
   "source": [
    "Functions in Python are reusable blocks of code that perform a specific task. They help organize code and improve readability."
   ]
  },
  {
   "cell_type": "markdown",
   "id": "68767f7f-c8b9-4c60-9ffa-e11b42164ca0",
   "metadata": {},
   "source": [
    "Defining a function:"
   ]
  },
  {
   "cell_type": "code",
   "execution_count": null,
   "id": "77d974a0-cb4f-43fd-a4fe-f73816c1d5f8",
   "metadata": {},
   "outputs": [],
   "source": [
    "def add_numbers(a, b):\n",
    "    return a + b"
   ]
  },
  {
   "cell_type": "markdown",
   "id": "665325ad-799d-4cf2-a4ec-efda6fffb8b8",
   "metadata": {},
   "source": [
    "Running a function:"
   ]
  },
  {
   "cell_type": "code",
   "execution_count": null,
   "id": "da021b68-198d-48ec-8e75-73ffd2379d53",
   "metadata": {},
   "outputs": [],
   "source": [
    "add_numbers(3, 5)"
   ]
  },
  {
   "cell_type": "markdown",
   "id": "1654a822-20ec-4c34-bbb4-3baa88e90055",
   "metadata": {},
   "source": [
    "### Rock-paper-scissors game\n",
    "<img src=\"../Images/schere-stein-papier.png\" style=\"width: 200px;\">\n",
    "\n",
    "*Image from Freepik, Flaticon*"
   ]
  },
  {
   "cell_type": "code",
   "execution_count": null,
   "id": "c90cda10-d51b-40d0-9e49-441271958eec",
   "metadata": {},
   "outputs": [],
   "source": [
    "import random"
   ]
  },
  {
   "cell_type": "markdown",
   "id": "8fd3e0a3-6151-41a5-8bbc-307a0c3fd142",
   "metadata": {},
   "source": [
    "What does random?"
   ]
  },
  {
   "cell_type": "code",
   "execution_count": null,
   "id": "adea7e67-e4d9-4145-8487-8273785e7dff",
   "metadata": {},
   "outputs": [],
   "source": [
    "# generating a random float uniformly in [0.1,2.0]\n",
    "print(random.uniform(0.1, 2))"
   ]
  },
  {
   "cell_type": "code",
   "execution_count": null,
   "id": "74fa39fd-6a9e-423f-94ac-8b24e6430418",
   "metadata": {},
   "outputs": [],
   "source": [
    "# generating a random float from the Gauss distribution with mean 1 and standard deviation 2.3\n",
    "print(random.gauss(1, 2.3))"
   ]
  },
  {
   "cell_type": "code",
   "execution_count": null,
   "id": "f2fe87d1-81c8-4fb4-b336-9c1425d2593d",
   "metadata": {},
   "outputs": [],
   "source": [
    "# sampling ten integers from range(100) without replacement\n",
    "print(random.sample(range(100), 10))"
   ]
  },
  {
   "cell_type": "code",
   "execution_count": null,
   "id": "59171e52-bf33-4cf9-a823-1de5a51af205",
   "metadata": {},
   "outputs": [],
   "source": [
    "# sampling random elements from a predifined tuple\n",
    "options = (\"rock\", \"paper\", \"scissors\")\n",
    "random_choice = random.choice(options)\n",
    "print(random_choice)"
   ]
  },
  {
   "cell_type": "markdown",
   "id": "b5a92691-0826-46e1-97f3-49cd62d0b0e1",
   "metadata": {},
   "source": [
    "Implement a Rock-Paper-Scissors game as a function that allows the player to input their choice. The function will generate a random choice for the computer and determine the winner based on the player's moves:"
   ]
  },
  {
   "cell_type": "code",
   "execution_count": null,
   "id": "d62b2d1d-fcb9-4467-ab9f-dae2aaec8478",
   "metadata": {},
   "outputs": [],
   "source": [
    "def play_rps(player_choice):\n",
    "\n",
    "    # Define possible options\n",
    "    options = (\"rock\", \"paper\", \"scissors\")\n",
    "\n",
    "    # Randomly select the computer's choice\n",
    "    computer = random.choice(options)\n",
    "\n",
    "    # Normalize the player's choice to lowercase\n",
    "    player = player_choice.lower()\n",
    "\n",
    "    # Validate player's input\n",
    "    if player not in options:\n",
    "        return \"Invalid choice. Please choose rock, paper, or scissors.\"\n",
    "\n",
    "    # Display the choices made\n",
    "    print(f\"Player choice: {player}\")\n",
    "    print(f\"Computer choice: {computer}\")\n",
    "    \n",
    "    # Game logic: Determine the outcome of the game\n",
    "    if player == computer:\n",
    "        return \"It's a tie!\"\n",
    "    elif (player == \"rock\" and computer == \"scissors\") or \\\n",
    "         (player == \"paper\" and computer == \"rock\") or \\\n",
    "         (player == \"scissors\" and computer == \"paper\"):\n",
    "        return \"Player wins!\"\n",
    "    else:\n",
    "        return \"Computer wins!\""
   ]
  },
  {
   "cell_type": "code",
   "execution_count": null,
   "id": "74b9ea10-cf7f-45d0-8a97-0197a7e264a9",
   "metadata": {},
   "outputs": [],
   "source": [
    "play_rps(\"Paper\")"
   ]
  },
  {
   "cell_type": "markdown",
   "id": "adeb13c1-cc52-490d-8752-782f2e3e00e6",
   "metadata": {},
   "source": [
    "**Exercise:** Write a sentence (or multiple sentences) of your choice and implement multiple Python data types or structures. First define variables, then combine these variables in the sentence."
   ]
  },
  {
   "cell_type": "code",
   "execution_count": null,
   "id": "38ce2e40-082d-4e23-b7b6-4d365e58e0d8",
   "metadata": {},
   "outputs": [],
   "source": []
  },
  {
   "cell_type": "code",
   "execution_count": null,
   "id": "1dba2534-10b8-445b-a39c-c5564bf7e3d9",
   "metadata": {},
   "outputs": [],
   "source": []
  }
 ],
 "metadata": {
  "kernelspec": {
   "display_name": "Python 3 (ipykernel)",
   "language": "python",
   "name": "python3"
  },
  "language_info": {
   "codemirror_mode": {
    "name": "ipython",
    "version": 3
   },
   "file_extension": ".py",
   "mimetype": "text/x-python",
   "name": "python",
   "nbconvert_exporter": "python",
   "pygments_lexer": "ipython3",
   "version": "3.11.10"
  }
 },
 "nbformat": 4,
 "nbformat_minor": 5
}
